{
 "cells": [
  {
   "cell_type": "markdown",
   "metadata": {},
   "source": [
    "# Pandas DataFrame \n",
    "    - Creating dataframes \n",
    "    - Reading data from flat files and from the web\n",
    "    - Data Manipulations"
   ]
  },
  {
   "cell_type": "markdown",
   "metadata": {},
   "source": [
    "# DataFrames\n",
    "    - DataFrame is a Group of Series"
   ]
  },
  {
   "cell_type": "code",
   "execution_count": 25,
   "metadata": {},
   "outputs": [
    {
     "data": {
      "text/html": [
       "<style>.container { width:100% !important; }</style>"
      ],
      "text/plain": [
       "<IPython.core.display.HTML object>"
      ]
     },
     "metadata": {},
     "output_type": "display_data"
    }
   ],
   "source": [
    "from IPython.display import * \n",
    "display(HTML(\"<style>.container { width:100% !important; }</style>\"))\n",
    "\n",
    "import pandas as pd\n",
    "import numpy as np"
   ]
  },
  {
   "cell_type": "markdown",
   "metadata": {},
   "source": [
    "## Example of creating a dataframe"
   ]
  },
  {
   "cell_type": "code",
   "execution_count": 26,
   "metadata": {},
   "outputs": [
    {
     "data": {
      "text/html": [
       "<div>\n",
       "<style scoped>\n",
       "    .dataframe tbody tr th:only-of-type {\n",
       "        vertical-align: middle;\n",
       "    }\n",
       "\n",
       "    .dataframe tbody tr th {\n",
       "        vertical-align: top;\n",
       "    }\n",
       "\n",
       "    .dataframe thead th {\n",
       "        text-align: right;\n",
       "    }\n",
       "</style>\n",
       "<table border=\"1\" class=\"dataframe\">\n",
       "  <thead>\n",
       "    <tr style=\"text-align: right;\">\n",
       "      <th></th>\n",
       "      <th>x</th>\n",
       "      <th>y</th>\n",
       "    </tr>\n",
       "  </thead>\n",
       "  <tbody>\n",
       "    <tr>\n",
       "      <th>0</th>\n",
       "      <td>2</td>\n",
       "      <td>3</td>\n",
       "    </tr>\n",
       "    <tr>\n",
       "      <th>1</th>\n",
       "      <td>8</td>\n",
       "      <td>7</td>\n",
       "    </tr>\n",
       "    <tr>\n",
       "      <th>2</th>\n",
       "      <td>9</td>\n",
       "      <td>1</td>\n",
       "    </tr>\n",
       "  </tbody>\n",
       "</table>\n",
       "</div>"
      ],
      "text/plain": [
       "   x  y\n",
       "0  2  3\n",
       "1  8  7\n",
       "2  9  1"
      ]
     },
     "execution_count": 26,
     "metadata": {},
     "output_type": "execute_result"
    }
   ],
   "source": [
    "df  = pd.DataFrame({'x':[2,8,9], 'y':[3, 7, 1]})\n",
    "df"
   ]
  },
  {
   "cell_type": "code",
   "execution_count": 27,
   "metadata": {},
   "outputs": [
    {
     "data": {
      "text/html": [
       "<div>\n",
       "<style scoped>\n",
       "    .dataframe tbody tr th:only-of-type {\n",
       "        vertical-align: middle;\n",
       "    }\n",
       "\n",
       "    .dataframe tbody tr th {\n",
       "        vertical-align: top;\n",
       "    }\n",
       "\n",
       "    .dataframe thead th {\n",
       "        text-align: right;\n",
       "    }\n",
       "</style>\n",
       "<table border=\"1\" class=\"dataframe\">\n",
       "  <thead>\n",
       "    <tr style=\"text-align: right;\">\n",
       "      <th></th>\n",
       "      <th>x</th>\n",
       "      <th>y</th>\n",
       "    </tr>\n",
       "  </thead>\n",
       "  <tbody>\n",
       "    <tr>\n",
       "      <th>0</th>\n",
       "      <td>4</td>\n",
       "      <td>7</td>\n",
       "    </tr>\n",
       "    <tr>\n",
       "      <th>1</th>\n",
       "      <td>7</td>\n",
       "      <td>8</td>\n",
       "    </tr>\n",
       "  </tbody>\n",
       "</table>\n",
       "</div>"
      ],
      "text/plain": [
       "   x  y\n",
       "0  4  7\n",
       "1  7  8"
      ]
     },
     "execution_count": 27,
     "metadata": {},
     "output_type": "execute_result"
    }
   ],
   "source": [
    "df = pd.DataFrame({'x':[4,7], 'y':[7,8]})\n",
    "df"
   ]
  },
  {
   "cell_type": "markdown",
   "metadata": {},
   "source": [
    "# Dataframe with non-default index"
   ]
  },
  {
   "cell_type": "code",
   "execution_count": 28,
   "metadata": {},
   "outputs": [
    {
     "data": {
      "text/html": [
       "<div>\n",
       "<style scoped>\n",
       "    .dataframe tbody tr th:only-of-type {\n",
       "        vertical-align: middle;\n",
       "    }\n",
       "\n",
       "    .dataframe tbody tr th {\n",
       "        vertical-align: top;\n",
       "    }\n",
       "\n",
       "    .dataframe thead th {\n",
       "        text-align: right;\n",
       "    }\n",
       "</style>\n",
       "<table border=\"1\" class=\"dataframe\">\n",
       "  <thead>\n",
       "    <tr style=\"text-align: right;\">\n",
       "      <th></th>\n",
       "      <th>x</th>\n",
       "      <th>y</th>\n",
       "    </tr>\n",
       "  </thead>\n",
       "  <tbody>\n",
       "    <tr>\n",
       "      <th>First</th>\n",
       "      <td>3</td>\n",
       "      <td>Hello</td>\n",
       "    </tr>\n",
       "    <tr>\n",
       "      <th>Second</th>\n",
       "      <td>2</td>\n",
       "      <td>Hi</td>\n",
       "    </tr>\n",
       "    <tr>\n",
       "      <th>Third</th>\n",
       "      <td>5</td>\n",
       "      <td>Bye</td>\n",
       "    </tr>\n",
       "  </tbody>\n",
       "</table>\n",
       "</div>"
      ],
      "text/plain": [
       "        x      y\n",
       "First   3  Hello\n",
       "Second  2     Hi\n",
       "Third   5    Bye"
      ]
     },
     "execution_count": 28,
     "metadata": {},
     "output_type": "execute_result"
    }
   ],
   "source": [
    "df = pd.DataFrame({'x':[3,2,5], 'y':['Hello', 'Hi', 'Bye']}\n",
    "                  , index=['First', 'Second', 'Third']\n",
    "                 )\n",
    "df"
   ]
  },
  {
   "cell_type": "markdown",
   "metadata": {},
   "source": [
    "## Another example"
   ]
  },
  {
   "cell_type": "code",
   "execution_count": 29,
   "metadata": {},
   "outputs": [
    {
     "data": {
      "text/html": [
       "<div>\n",
       "<style scoped>\n",
       "    .dataframe tbody tr th:only-of-type {\n",
       "        vertical-align: middle;\n",
       "    }\n",
       "\n",
       "    .dataframe tbody tr th {\n",
       "        vertical-align: top;\n",
       "    }\n",
       "\n",
       "    .dataframe thead th {\n",
       "        text-align: right;\n",
       "    }\n",
       "</style>\n",
       "<table border=\"1\" class=\"dataframe\">\n",
       "  <thead>\n",
       "    <tr style=\"text-align: right;\">\n",
       "      <th></th>\n",
       "      <th>Name</th>\n",
       "      <th>Year_Grad</th>\n",
       "      <th>School</th>\n",
       "      <th>Major</th>\n",
       "    </tr>\n",
       "  </thead>\n",
       "  <tbody>\n",
       "    <tr>\n",
       "      <th>0</th>\n",
       "      <td>Zoe</td>\n",
       "      <td>2010</td>\n",
       "      <td>Stanford</td>\n",
       "      <td>Engineering</td>\n",
       "    </tr>\n",
       "    <tr>\n",
       "      <th>1</th>\n",
       "      <td>Max</td>\n",
       "      <td>2015</td>\n",
       "      <td>UCLA</td>\n",
       "      <td>Finance</td>\n",
       "    </tr>\n",
       "    <tr>\n",
       "      <th>2</th>\n",
       "      <td>Sarah</td>\n",
       "      <td>2007</td>\n",
       "      <td>UC Davis</td>\n",
       "      <td>Accounting</td>\n",
       "    </tr>\n",
       "  </tbody>\n",
       "</table>\n",
       "</div>"
      ],
      "text/plain": [
       "    Name  Year_Grad    School        Major\n",
       "0    Zoe       2010  Stanford  Engineering\n",
       "1    Max       2015      UCLA      Finance\n",
       "2  Sarah       2007  UC Davis   Accounting"
      ]
     },
     "execution_count": 29,
     "metadata": {},
     "output_type": "execute_result"
    }
   ],
   "source": [
    "person = pd.DataFrame({\n",
    "    'Name':['Zoe', 'Max', 'Sarah'],\n",
    "    'Year_Grad':[2010, 2015, 2007],\n",
    "    'School':['Stanford', 'UCLA', 'UC Davis'],\n",
    "    'Major':['Engineering', 'Finance', 'Accounting']    \n",
    "})\n",
    "person"
   ]
  },
  {
   "cell_type": "markdown",
   "metadata": {},
   "source": [
    "## Slicing and dicing"
   ]
  },
  {
   "cell_type": "code",
   "execution_count": 30,
   "metadata": {},
   "outputs": [
    {
     "data": {
      "text/html": [
       "<div>\n",
       "<style scoped>\n",
       "    .dataframe tbody tr th:only-of-type {\n",
       "        vertical-align: middle;\n",
       "    }\n",
       "\n",
       "    .dataframe tbody tr th {\n",
       "        vertical-align: top;\n",
       "    }\n",
       "\n",
       "    .dataframe thead th {\n",
       "        text-align: right;\n",
       "    }\n",
       "</style>\n",
       "<table border=\"1\" class=\"dataframe\">\n",
       "  <thead>\n",
       "    <tr style=\"text-align: right;\">\n",
       "      <th></th>\n",
       "      <th>Name</th>\n",
       "      <th>Year_Grad</th>\n",
       "      <th>School</th>\n",
       "      <th>Major</th>\n",
       "    </tr>\n",
       "  </thead>\n",
       "  <tbody>\n",
       "    <tr>\n",
       "      <th>0</th>\n",
       "      <td>Zoe</td>\n",
       "      <td>2010</td>\n",
       "      <td>Stanford</td>\n",
       "      <td>Engineering</td>\n",
       "    </tr>\n",
       "    <tr>\n",
       "      <th>1</th>\n",
       "      <td>Max</td>\n",
       "      <td>2015</td>\n",
       "      <td>UCLA</td>\n",
       "      <td>Finance</td>\n",
       "    </tr>\n",
       "    <tr>\n",
       "      <th>2</th>\n",
       "      <td>Sarah</td>\n",
       "      <td>2007</td>\n",
       "      <td>UC Davis</td>\n",
       "      <td>Accounting</td>\n",
       "    </tr>\n",
       "  </tbody>\n",
       "</table>\n",
       "</div>"
      ],
      "text/plain": [
       "    Name  Year_Grad    School        Major\n",
       "0    Zoe       2010  Stanford  Engineering\n",
       "1    Max       2015      UCLA      Finance\n",
       "2  Sarah       2007  UC Davis   Accounting"
      ]
     },
     "execution_count": 30,
     "metadata": {},
     "output_type": "execute_result"
    }
   ],
   "source": [
    "person.iloc[0:,0:]"
   ]
  },
  {
   "cell_type": "markdown",
   "metadata": {},
   "source": [
    "## Slicing by the index/column"
   ]
  },
  {
   "cell_type": "code",
   "execution_count": 31,
   "metadata": {},
   "outputs": [
    {
     "data": {
      "text/plain": [
       "'UCLA'"
      ]
     },
     "execution_count": 31,
     "metadata": {},
     "output_type": "execute_result"
    }
   ],
   "source": [
    "person.iloc[1,2]"
   ]
  },
  {
   "cell_type": "code",
   "execution_count": 32,
   "metadata": {},
   "outputs": [
    {
     "data": {
      "text/plain": [
       "'UCLA'"
      ]
     },
     "execution_count": 32,
     "metadata": {},
     "output_type": "execute_result"
    }
   ],
   "source": [
    "person.loc[1,'School']"
   ]
  },
  {
   "cell_type": "code",
   "execution_count": 33,
   "metadata": {},
   "outputs": [
    {
     "data": {
      "text/html": [
       "<div>\n",
       "<style scoped>\n",
       "    .dataframe tbody tr th:only-of-type {\n",
       "        vertical-align: middle;\n",
       "    }\n",
       "\n",
       "    .dataframe tbody tr th {\n",
       "        vertical-align: top;\n",
       "    }\n",
       "\n",
       "    .dataframe thead th {\n",
       "        text-align: right;\n",
       "    }\n",
       "</style>\n",
       "<table border=\"1\" class=\"dataframe\">\n",
       "  <thead>\n",
       "    <tr style=\"text-align: right;\">\n",
       "      <th></th>\n",
       "      <th>School</th>\n",
       "      <th>Major</th>\n",
       "    </tr>\n",
       "  </thead>\n",
       "  <tbody>\n",
       "    <tr>\n",
       "      <th>1</th>\n",
       "      <td>UCLA</td>\n",
       "      <td>Finance</td>\n",
       "    </tr>\n",
       "    <tr>\n",
       "      <th>2</th>\n",
       "      <td>UC Davis</td>\n",
       "      <td>Accounting</td>\n",
       "    </tr>\n",
       "  </tbody>\n",
       "</table>\n",
       "</div>"
      ],
      "text/plain": [
       "     School       Major\n",
       "1      UCLA     Finance\n",
       "2  UC Davis  Accounting"
      ]
     },
     "execution_count": 33,
     "metadata": {},
     "output_type": "execute_result"
    }
   ],
   "source": [
    "person.loc[[1,2], ['School', 'Major']]"
   ]
  },
  {
   "cell_type": "code",
   "execution_count": 34,
   "metadata": {},
   "outputs": [
    {
     "data": {
      "text/plain": [
       "Name             Max\n",
       "Year_Grad       2015\n",
       "School          UCLA\n",
       "Major        Finance\n",
       "Name: 1, dtype: object"
      ]
     },
     "execution_count": 34,
     "metadata": {},
     "output_type": "execute_result"
    }
   ],
   "source": [
    "person.loc[1,:]"
   ]
  },
  {
   "cell_type": "markdown",
   "metadata": {},
   "source": [
    "## Saving dataframes to flat files"
   ]
  },
  {
   "cell_type": "code",
   "execution_count": 35,
   "metadata": {},
   "outputs": [
    {
     "name": "stdout",
     "output_type": "stream",
     "text": [
      "Requirement already satisfied: openpyxl in /opt/anaconda3/envs/TF2/lib/python3.9/site-packages (3.1.5)\n",
      "Requirement already satisfied: et-xmlfile in /opt/anaconda3/envs/TF2/lib/python3.9/site-packages (from openpyxl) (2.0.0)\n"
     ]
    }
   ],
   "source": [
    "!pip install openpyxl"
   ]
  },
  {
   "cell_type": "code",
   "execution_count": 36,
   "metadata": {},
   "outputs": [
    {
     "name": "stdout",
     "output_type": "stream",
     "text": [
      "-rw-r--r--  1 gerislayer  staff     5101 Mar 21 18:43 Person.xlsx\n",
      "-rw-r--r--  1 gerislayer  staff      118 Mar 21 18:43 Person.csv\n",
      "-rw-r--r--  1 gerislayer  staff      118 Mar 21 18:43 PersonText.txt\n"
     ]
    }
   ],
   "source": [
    "person.to_excel('Person.xlsx', sheet_name='My Data', index=True)\n",
    "person.to_csv('Person.csv', index=True)\n",
    "person.to_csv('PersonText.txt', index=True, sep='#')\n",
    "! ls -ltr | tail -3"
   ]
  },
  {
   "cell_type": "markdown",
   "metadata": {},
   "source": [
    "## Reading from xlsx, csv, txt"
   ]
  },
  {
   "cell_type": "code",
   "execution_count": 37,
   "metadata": {},
   "outputs": [
    {
     "data": {
      "text/html": [
       "<div>\n",
       "<style scoped>\n",
       "    .dataframe tbody tr th:only-of-type {\n",
       "        vertical-align: middle;\n",
       "    }\n",
       "\n",
       "    .dataframe tbody tr th {\n",
       "        vertical-align: top;\n",
       "    }\n",
       "\n",
       "    .dataframe thead th {\n",
       "        text-align: right;\n",
       "    }\n",
       "</style>\n",
       "<table border=\"1\" class=\"dataframe\">\n",
       "  <thead>\n",
       "    <tr style=\"text-align: right;\">\n",
       "      <th></th>\n",
       "      <th>Name</th>\n",
       "      <th>Year_Grad</th>\n",
       "      <th>School</th>\n",
       "      <th>Major</th>\n",
       "    </tr>\n",
       "  </thead>\n",
       "  <tbody>\n",
       "    <tr>\n",
       "      <th>0</th>\n",
       "      <td>Zoe</td>\n",
       "      <td>2010</td>\n",
       "      <td>Stanford</td>\n",
       "      <td>Engineering</td>\n",
       "    </tr>\n",
       "    <tr>\n",
       "      <th>1</th>\n",
       "      <td>Max</td>\n",
       "      <td>2015</td>\n",
       "      <td>UCLA</td>\n",
       "      <td>Finance</td>\n",
       "    </tr>\n",
       "    <tr>\n",
       "      <th>2</th>\n",
       "      <td>Sarah</td>\n",
       "      <td>2007</td>\n",
       "      <td>UC Davis</td>\n",
       "      <td>Accounting</td>\n",
       "    </tr>\n",
       "  </tbody>\n",
       "</table>\n",
       "</div>"
      ],
      "text/plain": [
       "    Name  Year_Grad    School        Major\n",
       "0    Zoe       2010  Stanford  Engineering\n",
       "1    Max       2015      UCLA      Finance\n",
       "2  Sarah       2007  UC Davis   Accounting"
      ]
     },
     "execution_count": 37,
     "metadata": {},
     "output_type": "execute_result"
    }
   ],
   "source": [
    "df1 = pd.read_excel('Person.xlsx', \n",
    "                    sheet_name=0, \n",
    "                    index_col='Unnamed: 0')\n",
    "df1"
   ]
  },
  {
   "cell_type": "code",
   "execution_count": 38,
   "metadata": {},
   "outputs": [
    {
     "data": {
      "text/html": [
       "<div>\n",
       "<style scoped>\n",
       "    .dataframe tbody tr th:only-of-type {\n",
       "        vertical-align: middle;\n",
       "    }\n",
       "\n",
       "    .dataframe tbody tr th {\n",
       "        vertical-align: top;\n",
       "    }\n",
       "\n",
       "    .dataframe thead th {\n",
       "        text-align: right;\n",
       "    }\n",
       "</style>\n",
       "<table border=\"1\" class=\"dataframe\">\n",
       "  <thead>\n",
       "    <tr style=\"text-align: right;\">\n",
       "      <th></th>\n",
       "      <th>Name</th>\n",
       "      <th>Year_Grad</th>\n",
       "      <th>School</th>\n",
       "      <th>Major</th>\n",
       "    </tr>\n",
       "  </thead>\n",
       "  <tbody>\n",
       "    <tr>\n",
       "      <th>0</th>\n",
       "      <td>Zoe</td>\n",
       "      <td>2010</td>\n",
       "      <td>Stanford</td>\n",
       "      <td>Engineering</td>\n",
       "    </tr>\n",
       "    <tr>\n",
       "      <th>1</th>\n",
       "      <td>Max</td>\n",
       "      <td>2015</td>\n",
       "      <td>UCLA</td>\n",
       "      <td>Finance</td>\n",
       "    </tr>\n",
       "    <tr>\n",
       "      <th>2</th>\n",
       "      <td>Sarah</td>\n",
       "      <td>2007</td>\n",
       "      <td>UC Davis</td>\n",
       "      <td>Accounting</td>\n",
       "    </tr>\n",
       "  </tbody>\n",
       "</table>\n",
       "</div>"
      ],
      "text/plain": [
       "    Name  Year_Grad    School        Major\n",
       "0    Zoe       2010  Stanford  Engineering\n",
       "1    Max       2015      UCLA      Finance\n",
       "2  Sarah       2007  UC Davis   Accounting"
      ]
     },
     "execution_count": 38,
     "metadata": {},
     "output_type": "execute_result"
    }
   ],
   "source": [
    "df2 = pd.read_csv('Person.csv', \n",
    "                  index_col='Unnamed: 0')\n",
    "df2"
   ]
  },
  {
   "cell_type": "code",
   "execution_count": 39,
   "metadata": {},
   "outputs": [
    {
     "data": {
      "text/html": [
       "<div>\n",
       "<style scoped>\n",
       "    .dataframe tbody tr th:only-of-type {\n",
       "        vertical-align: middle;\n",
       "    }\n",
       "\n",
       "    .dataframe tbody tr th {\n",
       "        vertical-align: top;\n",
       "    }\n",
       "\n",
       "    .dataframe thead th {\n",
       "        text-align: right;\n",
       "    }\n",
       "</style>\n",
       "<table border=\"1\" class=\"dataframe\">\n",
       "  <thead>\n",
       "    <tr style=\"text-align: right;\">\n",
       "      <th></th>\n",
       "      <th>Name</th>\n",
       "      <th>Year_Grad</th>\n",
       "      <th>School</th>\n",
       "      <th>Major</th>\n",
       "    </tr>\n",
       "  </thead>\n",
       "  <tbody>\n",
       "    <tr>\n",
       "      <th>0</th>\n",
       "      <td>Zoe</td>\n",
       "      <td>2010</td>\n",
       "      <td>Stanford</td>\n",
       "      <td>Engineering</td>\n",
       "    </tr>\n",
       "    <tr>\n",
       "      <th>1</th>\n",
       "      <td>Max</td>\n",
       "      <td>2015</td>\n",
       "      <td>UCLA</td>\n",
       "      <td>Finance</td>\n",
       "    </tr>\n",
       "    <tr>\n",
       "      <th>2</th>\n",
       "      <td>Sarah</td>\n",
       "      <td>2007</td>\n",
       "      <td>UC Davis</td>\n",
       "      <td>Accounting</td>\n",
       "    </tr>\n",
       "  </tbody>\n",
       "</table>\n",
       "</div>"
      ],
      "text/plain": [
       "    Name  Year_Grad    School        Major\n",
       "0    Zoe       2010  Stanford  Engineering\n",
       "1    Max       2015      UCLA      Finance\n",
       "2  Sarah       2007  UC Davis   Accounting"
      ]
     },
     "execution_count": 39,
     "metadata": {},
     "output_type": "execute_result"
    }
   ],
   "source": [
    "df3 = pd.read_table(filepath_or_buffer='Person.csv', \n",
    "                    index_col='Unnamed: 0', sep=',')\n",
    "df3"
   ]
  },
  {
   "cell_type": "markdown",
   "metadata": {},
   "source": [
    "# Read specific columns"
   ]
  },
  {
   "cell_type": "code",
   "execution_count": 40,
   "metadata": {},
   "outputs": [
    {
     "data": {
      "text/html": [
       "<div>\n",
       "<style scoped>\n",
       "    .dataframe tbody tr th:only-of-type {\n",
       "        vertical-align: middle;\n",
       "    }\n",
       "\n",
       "    .dataframe tbody tr th {\n",
       "        vertical-align: top;\n",
       "    }\n",
       "\n",
       "    .dataframe thead th {\n",
       "        text-align: right;\n",
       "    }\n",
       "</style>\n",
       "<table border=\"1\" class=\"dataframe\">\n",
       "  <thead>\n",
       "    <tr style=\"text-align: right;\">\n",
       "      <th></th>\n",
       "      <th>Name</th>\n",
       "      <th>Year_Grad</th>\n",
       "    </tr>\n",
       "  </thead>\n",
       "  <tbody>\n",
       "    <tr>\n",
       "      <th>0</th>\n",
       "      <td>Zoe</td>\n",
       "      <td>2010</td>\n",
       "    </tr>\n",
       "    <tr>\n",
       "      <th>1</th>\n",
       "      <td>Max</td>\n",
       "      <td>2015</td>\n",
       "    </tr>\n",
       "    <tr>\n",
       "      <th>2</th>\n",
       "      <td>Sarah</td>\n",
       "      <td>2007</td>\n",
       "    </tr>\n",
       "  </tbody>\n",
       "</table>\n",
       "</div>"
      ],
      "text/plain": [
       "    Name  Year_Grad\n",
       "0    Zoe       2010\n",
       "1    Max       2015\n",
       "2  Sarah       2007"
      ]
     },
     "execution_count": 40,
     "metadata": {},
     "output_type": "execute_result"
    }
   ],
   "source": [
    "pd.read_excel('Person.xlsx', usecols=['Name', 'Year_Grad'])"
   ]
  },
  {
   "cell_type": "markdown",
   "metadata": {},
   "source": [
    "# Skip certain rows"
   ]
  },
  {
   "cell_type": "code",
   "execution_count": 41,
   "metadata": {},
   "outputs": [
    {
     "data": {
      "text/html": [
       "<div>\n",
       "<style scoped>\n",
       "    .dataframe tbody tr th:only-of-type {\n",
       "        vertical-align: middle;\n",
       "    }\n",
       "\n",
       "    .dataframe tbody tr th {\n",
       "        vertical-align: top;\n",
       "    }\n",
       "\n",
       "    .dataframe thead th {\n",
       "        text-align: right;\n",
       "    }\n",
       "</style>\n",
       "<table border=\"1\" class=\"dataframe\">\n",
       "  <thead>\n",
       "    <tr style=\"text-align: right;\">\n",
       "      <th></th>\n",
       "      <th>0</th>\n",
       "      <th>1</th>\n",
       "      <th>2</th>\n",
       "      <th>3</th>\n",
       "      <th>4</th>\n",
       "    </tr>\n",
       "  </thead>\n",
       "  <tbody>\n",
       "    <tr>\n",
       "      <th>0</th>\n",
       "      <td>0</td>\n",
       "      <td>Zoe</td>\n",
       "      <td>2010</td>\n",
       "      <td>Stanford</td>\n",
       "      <td>Engineering</td>\n",
       "    </tr>\n",
       "    <tr>\n",
       "      <th>1</th>\n",
       "      <td>1</td>\n",
       "      <td>Max</td>\n",
       "      <td>2015</td>\n",
       "      <td>UCLA</td>\n",
       "      <td>Finance</td>\n",
       "    </tr>\n",
       "    <tr>\n",
       "      <th>2</th>\n",
       "      <td>2</td>\n",
       "      <td>Sarah</td>\n",
       "      <td>2007</td>\n",
       "      <td>UC Davis</td>\n",
       "      <td>Accounting</td>\n",
       "    </tr>\n",
       "  </tbody>\n",
       "</table>\n",
       "</div>"
      ],
      "text/plain": [
       "   0      1     2         3            4\n",
       "0  0    Zoe  2010  Stanford  Engineering\n",
       "1  1    Max  2015      UCLA      Finance\n",
       "2  2  Sarah  2007  UC Davis   Accounting"
      ]
     },
     "execution_count": 41,
     "metadata": {},
     "output_type": "execute_result"
    }
   ],
   "source": [
    "pd.read_excel('Person.xlsx', skiprows=1, header=None)"
   ]
  },
  {
   "cell_type": "markdown",
   "metadata": {},
   "source": [
    "## Convert dataframe to dict"
   ]
  },
  {
   "cell_type": "code",
   "execution_count": 42,
   "metadata": {},
   "outputs": [
    {
     "data": {
      "text/plain": [
       "{'Name': {0: 'Zoe', 1: 'Max', 2: 'Sarah'},\n",
       " 'Year_Grad': {0: 2010, 1: 2015, 2: 2007},\n",
       " 'School': {0: 'Stanford', 1: 'UCLA', 2: 'UC Davis'},\n",
       " 'Major': {0: 'Engineering', 1: 'Finance', 2: 'Accounting'}}"
      ]
     },
     "execution_count": 42,
     "metadata": {},
     "output_type": "execute_result"
    }
   ],
   "source": [
    "df3.to_dict()"
   ]
  },
  {
   "cell_type": "markdown",
   "metadata": {},
   "source": [
    "## to json"
   ]
  },
  {
   "cell_type": "code",
   "execution_count": 43,
   "metadata": {},
   "outputs": [
    {
     "data": {
      "text/plain": [
       "'{\"Name\":{\"0\":\"Zoe\",\"1\":\"Max\",\"2\":\"Sarah\"},\"Year_Grad\":{\"0\":2010,\"1\":2015,\"2\":2007},\"School\":{\"0\":\"Stanford\",\"1\":\"UCLA\",\"2\":\"UC Davis\"},\"Major\":{\"0\":\"Engineering\",\"1\":\"Finance\",\"2\":\"Accounting\"}}'"
      ]
     },
     "execution_count": 43,
     "metadata": {},
     "output_type": "execute_result"
    }
   ],
   "source": [
    "jsn = df3.to_json()\n",
    "jsn"
   ]
  },
  {
   "cell_type": "markdown",
   "metadata": {},
   "source": [
    "## dictionary to dataframe"
   ]
  },
  {
   "cell_type": "code",
   "execution_count": 44,
   "metadata": {},
   "outputs": [
    {
     "data": {
      "text/html": [
       "<div>\n",
       "<style scoped>\n",
       "    .dataframe tbody tr th:only-of-type {\n",
       "        vertical-align: middle;\n",
       "    }\n",
       "\n",
       "    .dataframe tbody tr th {\n",
       "        vertical-align: top;\n",
       "    }\n",
       "\n",
       "    .dataframe thead th {\n",
       "        text-align: right;\n",
       "    }\n",
       "</style>\n",
       "<table border=\"1\" class=\"dataframe\">\n",
       "  <thead>\n",
       "    <tr style=\"text-align: right;\">\n",
       "      <th></th>\n",
       "      <th>Name</th>\n",
       "      <th>Year_Grad</th>\n",
       "      <th>School</th>\n",
       "      <th>Major</th>\n",
       "    </tr>\n",
       "  </thead>\n",
       "  <tbody>\n",
       "    <tr>\n",
       "      <th>0</th>\n",
       "      <td>Zoe</td>\n",
       "      <td>2010</td>\n",
       "      <td>Stanford</td>\n",
       "      <td>Engineering</td>\n",
       "    </tr>\n",
       "    <tr>\n",
       "      <th>1</th>\n",
       "      <td>Max</td>\n",
       "      <td>2015</td>\n",
       "      <td>UCLA</td>\n",
       "      <td>Finance</td>\n",
       "    </tr>\n",
       "    <tr>\n",
       "      <th>2</th>\n",
       "      <td>Sarah</td>\n",
       "      <td>2007</td>\n",
       "      <td>UC Davis</td>\n",
       "      <td>Accounting</td>\n",
       "    </tr>\n",
       "  </tbody>\n",
       "</table>\n",
       "</div>"
      ],
      "text/plain": [
       "    Name  Year_Grad    School        Major\n",
       "0    Zoe       2010  Stanford  Engineering\n",
       "1    Max       2015      UCLA      Finance\n",
       "2  Sarah       2007  UC Davis   Accounting"
      ]
     },
     "execution_count": 44,
     "metadata": {},
     "output_type": "execute_result"
    }
   ],
   "source": [
    "d = df3.to_dict()\n",
    "ddd = pd.DataFrame.from_dict(d)\n",
    "ddd"
   ]
  },
  {
   "cell_type": "markdown",
   "metadata": {},
   "source": [
    "## Json file to dataframe"
   ]
  },
  {
   "cell_type": "code",
   "execution_count": 45,
   "metadata": {},
   "outputs": [
    {
     "name": "stderr",
     "output_type": "stream",
     "text": [
      "/var/folders/vy/2dzjhgzs71q_c4_xm4thrfn00000gn/T/ipykernel_2367/3727467214.py:2: FutureWarning: Passing literal json to 'read_json' is deprecated and will be removed in a future version. To read from a literal string, wrap it in a 'StringIO' object.\n",
      "  jjj = pd.read_json(jsn)\n"
     ]
    },
    {
     "data": {
      "text/html": [
       "<div>\n",
       "<style scoped>\n",
       "    .dataframe tbody tr th:only-of-type {\n",
       "        vertical-align: middle;\n",
       "    }\n",
       "\n",
       "    .dataframe tbody tr th {\n",
       "        vertical-align: top;\n",
       "    }\n",
       "\n",
       "    .dataframe thead th {\n",
       "        text-align: right;\n",
       "    }\n",
       "</style>\n",
       "<table border=\"1\" class=\"dataframe\">\n",
       "  <thead>\n",
       "    <tr style=\"text-align: right;\">\n",
       "      <th></th>\n",
       "      <th>Name</th>\n",
       "      <th>Year_Grad</th>\n",
       "      <th>School</th>\n",
       "      <th>Major</th>\n",
       "    </tr>\n",
       "  </thead>\n",
       "  <tbody>\n",
       "    <tr>\n",
       "      <th>0</th>\n",
       "      <td>Zoe</td>\n",
       "      <td>2010</td>\n",
       "      <td>Stanford</td>\n",
       "      <td>Engineering</td>\n",
       "    </tr>\n",
       "    <tr>\n",
       "      <th>1</th>\n",
       "      <td>Max</td>\n",
       "      <td>2015</td>\n",
       "      <td>UCLA</td>\n",
       "      <td>Finance</td>\n",
       "    </tr>\n",
       "    <tr>\n",
       "      <th>2</th>\n",
       "      <td>Sarah</td>\n",
       "      <td>2007</td>\n",
       "      <td>UC Davis</td>\n",
       "      <td>Accounting</td>\n",
       "    </tr>\n",
       "  </tbody>\n",
       "</table>\n",
       "</div>"
      ],
      "text/plain": [
       "    Name  Year_Grad    School        Major\n",
       "0    Zoe       2010  Stanford  Engineering\n",
       "1    Max       2015      UCLA      Finance\n",
       "2  Sarah       2007  UC Davis   Accounting"
      ]
     },
     "execution_count": 45,
     "metadata": {},
     "output_type": "execute_result"
    }
   ],
   "source": [
    "jsn = df3.to_json()\n",
    "jjj = pd.read_json(jsn)\n",
    "jjj"
   ]
  },
  {
   "cell_type": "markdown",
   "metadata": {},
   "source": [
    "## Read data from web"
   ]
  },
  {
   "cell_type": "code",
   "execution_count": 46,
   "metadata": {},
   "outputs": [
    {
     "data": {
      "text/plain": [
       "True"
      ]
     },
     "execution_count": 46,
     "metadata": {},
     "output_type": "execute_result"
    }
   ],
   "source": [
    "import webbrowser as wb\n",
    "web = 'https://en.wikipedia.org/wiki/List_of_NBA_champions'\n",
    "wb.open(web)"
   ]
  },
  {
   "cell_type": "code",
   "execution_count": 27,
   "metadata": {},
   "outputs": [
    {
     "name": "stdout",
     "output_type": "stream",
     "text": [
      "Collecting lxml\n",
      "  Downloading lxml-5.3.1-cp39-cp39-macosx_10_9_x86_64.whl.metadata (3.7 kB)\n",
      "Downloading lxml-5.3.1-cp39-cp39-macosx_10_9_x86_64.whl (4.4 MB)\n",
      "\u001b[2K   \u001b[38;2;114;156;31m━━━━━━━━━━━━━━━━━━━━━━━━━━━━━━━━━━━━━━━━\u001b[0m \u001b[32m4.4/4.4 MB\u001b[0m \u001b[31m14.7 MB/s\u001b[0m eta \u001b[36m0:00:00\u001b[0m31m17.6 MB/s\u001b[0m eta \u001b[36m0:00:01\u001b[0m\n",
      "\u001b[?25hInstalling collected packages: lxml\n",
      "Successfully installed lxml-5.3.1\n"
     ]
    }
   ],
   "source": [
    "!pip install lxml"
   ]
  },
  {
   "cell_type": "code",
   "execution_count": 47,
   "metadata": {},
   "outputs": [
    {
     "data": {
      "text/html": [
       "<div>\n",
       "<style scoped>\n",
       "    .dataframe tbody tr th:only-of-type {\n",
       "        vertical-align: middle;\n",
       "    }\n",
       "\n",
       "    .dataframe tbody tr th {\n",
       "        vertical-align: top;\n",
       "    }\n",
       "\n",
       "    .dataframe thead th {\n",
       "        text-align: right;\n",
       "    }\n",
       "</style>\n",
       "<table border=\"1\" class=\"dataframe\">\n",
       "  <thead>\n",
       "    <tr style=\"text-align: right;\">\n",
       "      <th></th>\n",
       "      <th>Year</th>\n",
       "      <th>Western champion</th>\n",
       "      <th>Coach</th>\n",
       "      <th>Result</th>\n",
       "      <th>Eastern champion</th>\n",
       "      <th>Coach.1</th>\n",
       "      <th>Finals MVP[a]</th>\n",
       "      <th>Ref</th>\n",
       "    </tr>\n",
       "  </thead>\n",
       "  <tbody>\n",
       "    <tr>\n",
       "      <th>0</th>\n",
       "      <td>Basketball Association of America (BAA)</td>\n",
       "      <td>Basketball Association of America (BAA)</td>\n",
       "      <td>Basketball Association of America (BAA)</td>\n",
       "      <td>Basketball Association of America (BAA)</td>\n",
       "      <td>Basketball Association of America (BAA)</td>\n",
       "      <td>Basketball Association of America (BAA)</td>\n",
       "      <td>Basketball Association of America (BAA)</td>\n",
       "      <td>Basketball Association of America (BAA)</td>\n",
       "    </tr>\n",
       "    <tr>\n",
       "      <th>1</th>\n",
       "      <td>1947</td>\n",
       "      <td>Chicago Stags (1) (1, 0–1)</td>\n",
       "      <td>Harold Olsen</td>\n",
       "      <td>1–4</td>\n",
       "      <td>Philadelphia Warriors (2) (1, 1–0)</td>\n",
       "      <td>Eddie Gottlieb</td>\n",
       "      <td>NaN</td>\n",
       "      <td>[16]</td>\n",
       "    </tr>\n",
       "  </tbody>\n",
       "</table>\n",
       "</div>"
      ],
      "text/plain": [
       "                                      Year  \\\n",
       "0  Basketball Association of America (BAA)   \n",
       "1                                     1947   \n",
       "\n",
       "                          Western champion  \\\n",
       "0  Basketball Association of America (BAA)   \n",
       "1               Chicago Stags (1) (1, 0–1)   \n",
       "\n",
       "                                     Coach  \\\n",
       "0  Basketball Association of America (BAA)   \n",
       "1                             Harold Olsen   \n",
       "\n",
       "                                    Result  \\\n",
       "0  Basketball Association of America (BAA)   \n",
       "1                                      1–4   \n",
       "\n",
       "                          Eastern champion  \\\n",
       "0  Basketball Association of America (BAA)   \n",
       "1       Philadelphia Warriors (2) (1, 1–0)   \n",
       "\n",
       "                                   Coach.1  \\\n",
       "0  Basketball Association of America (BAA)   \n",
       "1                           Eddie Gottlieb   \n",
       "\n",
       "                             Finals MVP[a]  \\\n",
       "0  Basketball Association of America (BAA)   \n",
       "1                                      NaN   \n",
       "\n",
       "                                       Ref  \n",
       "0  Basketball Association of America (BAA)  \n",
       "1                                     [16]  "
      ]
     },
     "execution_count": 47,
     "metadata": {},
     "output_type": "execute_result"
    }
   ],
   "source": [
    "nba_chmps = pd.read_html(web)[1] # Please run this with Google Chrome\n",
    "nba_chmps.head(2)"
   ]
  },
  {
   "cell_type": "code",
   "execution_count": 48,
   "metadata": {},
   "outputs": [
    {
     "data": {
      "text/html": [
       "<div>\n",
       "<style scoped>\n",
       "    .dataframe tbody tr th:only-of-type {\n",
       "        vertical-align: middle;\n",
       "    }\n",
       "\n",
       "    .dataframe tbody tr th {\n",
       "        vertical-align: top;\n",
       "    }\n",
       "\n",
       "    .dataframe thead th {\n",
       "        text-align: right;\n",
       "    }\n",
       "</style>\n",
       "<table border=\"1\" class=\"dataframe\">\n",
       "  <thead>\n",
       "    <tr style=\"text-align: right;\">\n",
       "      <th></th>\n",
       "      <th>Year</th>\n",
       "      <th>Western champion</th>\n",
       "      <th>Coach</th>\n",
       "      <th>Result</th>\n",
       "      <th>Eastern champion</th>\n",
       "      <th>Coach.1</th>\n",
       "      <th>Finals MVP[a]</th>\n",
       "      <th>Ref</th>\n",
       "    </tr>\n",
       "  </thead>\n",
       "  <tbody>\n",
       "    <tr>\n",
       "      <th>78</th>\n",
       "      <td>2023</td>\n",
       "      <td>Denver Nuggets (1) (1, 1–0)</td>\n",
       "      <td>Michael Malone</td>\n",
       "      <td>4–1</td>\n",
       "      <td>Miami Heat (8) (7, 3–4)</td>\n",
       "      <td>Erik Spoelstra</td>\n",
       "      <td>Nikola Jokić</td>\n",
       "      <td>[102]</td>\n",
       "    </tr>\n",
       "    <tr>\n",
       "      <th>79</th>\n",
       "      <td>2024</td>\n",
       "      <td>Dallas Mavericks (5) (3, 1–2)</td>\n",
       "      <td>Jason Kidd</td>\n",
       "      <td>1–4</td>\n",
       "      <td>Boston Celtics (1) (23, 18–5)</td>\n",
       "      <td>Joe Mazzulla</td>\n",
       "      <td>Jaylen Brown</td>\n",
       "      <td>[103]</td>\n",
       "    </tr>\n",
       "  </tbody>\n",
       "</table>\n",
       "</div>"
      ],
      "text/plain": [
       "    Year               Western champion           Coach Result  \\\n",
       "78  2023    Denver Nuggets (1) (1, 1–0)  Michael Malone    4–1   \n",
       "79  2024  Dallas Mavericks (5) (3, 1–2)      Jason Kidd    1–4   \n",
       "\n",
       "                 Eastern champion         Coach.1 Finals MVP[a]    Ref  \n",
       "78        Miami Heat (8) (7, 3–4)  Erik Spoelstra  Nikola Jokić  [102]  \n",
       "79  Boston Celtics (1) (23, 18–5)    Joe Mazzulla  Jaylen Brown  [103]  "
      ]
     },
     "execution_count": 48,
     "metadata": {},
     "output_type": "execute_result"
    }
   ],
   "source": [
    "nba_chmps.tail(2)"
   ]
  },
  {
   "cell_type": "markdown",
   "metadata": {},
   "source": [
    "### Find the header of the data frame"
   ]
  },
  {
   "cell_type": "code",
   "execution_count": 49,
   "metadata": {},
   "outputs": [
    {
     "data": {
      "text/plain": [
       "['Year',\n",
       " 'Western champion',\n",
       " 'Coach',\n",
       " 'Result',\n",
       " 'Eastern champion',\n",
       " 'Coach.1',\n",
       " 'Finals MVP[a]',\n",
       " 'Ref']"
      ]
     },
     "execution_count": 49,
     "metadata": {},
     "output_type": "execute_result"
    }
   ],
   "source": [
    "list(nba_chmps.columns)"
   ]
  },
  {
   "cell_type": "markdown",
   "metadata": {},
   "source": [
    "### Find the dimensionality of the dataframe"
   ]
  },
  {
   "cell_type": "code",
   "execution_count": 50,
   "metadata": {},
   "outputs": [
    {
     "data": {
      "text/plain": [
       "(80, 8)"
      ]
     },
     "execution_count": 50,
     "metadata": {},
     "output_type": "execute_result"
    }
   ],
   "source": [
    "nba_chmps.shape"
   ]
  },
  {
   "cell_type": "markdown",
   "metadata": {},
   "source": [
    "# Show the entire dataframe"
   ]
  },
  {
   "cell_type": "code",
   "execution_count": 51,
   "metadata": {},
   "outputs": [
    {
     "data": {
      "text/html": [
       "<div>\n",
       "<style scoped>\n",
       "    .dataframe tbody tr th:only-of-type {\n",
       "        vertical-align: middle;\n",
       "    }\n",
       "\n",
       "    .dataframe tbody tr th {\n",
       "        vertical-align: top;\n",
       "    }\n",
       "\n",
       "    .dataframe thead th {\n",
       "        text-align: right;\n",
       "    }\n",
       "</style>\n",
       "<table border=\"1\" class=\"dataframe\">\n",
       "  <thead>\n",
       "    <tr style=\"text-align: right;\">\n",
       "      <th></th>\n",
       "      <th>Year</th>\n",
       "      <th>Western champion</th>\n",
       "      <th>Coach</th>\n",
       "      <th>Result</th>\n",
       "      <th>Eastern champion</th>\n",
       "      <th>Coach.1</th>\n",
       "      <th>Finals MVP[a]</th>\n",
       "      <th>Ref</th>\n",
       "    </tr>\n",
       "  </thead>\n",
       "  <tbody>\n",
       "    <tr>\n",
       "      <th>0</th>\n",
       "      <td>Basketball Association of America (BAA)</td>\n",
       "      <td>Basketball Association of America (BAA)</td>\n",
       "      <td>Basketball Association of America (BAA)</td>\n",
       "      <td>Basketball Association of America (BAA)</td>\n",
       "      <td>Basketball Association of America (BAA)</td>\n",
       "      <td>Basketball Association of America (BAA)</td>\n",
       "      <td>Basketball Association of America (BAA)</td>\n",
       "      <td>Basketball Association of America (BAA)</td>\n",
       "    </tr>\n",
       "    <tr>\n",
       "      <th>1</th>\n",
       "      <td>1947</td>\n",
       "      <td>Chicago Stags (1) (1, 0–1)</td>\n",
       "      <td>Harold Olsen</td>\n",
       "      <td>1–4</td>\n",
       "      <td>Philadelphia Warriors (2) (1, 1–0)</td>\n",
       "      <td>Eddie Gottlieb</td>\n",
       "      <td>NaN</td>\n",
       "      <td>[16]</td>\n",
       "    </tr>\n",
       "    <tr>\n",
       "      <th>2</th>\n",
       "      <td>1948</td>\n",
       "      <td>Baltimore Bullets† (2) (1, 1–0)</td>\n",
       "      <td>Buddy Jeannette</td>\n",
       "      <td>4–2</td>\n",
       "      <td>Philadelphia Warriors (1) (2, 1–1)</td>\n",
       "      <td>Eddie Gottlieb</td>\n",
       "      <td>NaN</td>\n",
       "      <td>[17]</td>\n",
       "    </tr>\n",
       "    <tr>\n",
       "      <th>3</th>\n",
       "      <td>1949</td>\n",
       "      <td>Minneapolis Lakers (2) (1, 1–0)</td>\n",
       "      <td>John Kundla</td>\n",
       "      <td>4–2</td>\n",
       "      <td>Washington Capitols (1) (1, 0–1)</td>\n",
       "      <td>Red Auerbach</td>\n",
       "      <td>NaN</td>\n",
       "      <td>[18]</td>\n",
       "    </tr>\n",
       "    <tr>\n",
       "      <th>4</th>\n",
       "      <td>National Basketball Association (NBA)</td>\n",
       "      <td>National Basketball Association (NBA)</td>\n",
       "      <td>National Basketball Association (NBA)</td>\n",
       "      <td>National Basketball Association (NBA)</td>\n",
       "      <td>National Basketball Association (NBA)</td>\n",
       "      <td>National Basketball Association (NBA)</td>\n",
       "      <td>National Basketball Association (NBA)</td>\n",
       "      <td>National Basketball Association (NBA)</td>\n",
       "    </tr>\n",
       "    <tr>\n",
       "      <th>...</th>\n",
       "      <td>...</td>\n",
       "      <td>...</td>\n",
       "      <td>...</td>\n",
       "      <td>...</td>\n",
       "      <td>...</td>\n",
       "      <td>...</td>\n",
       "      <td>...</td>\n",
       "      <td>...</td>\n",
       "    </tr>\n",
       "    <tr>\n",
       "      <th>75</th>\n",
       "      <td>2020[h]</td>\n",
       "      <td>Los Angeles Lakers (1) (32, 17–15)</td>\n",
       "      <td>Frank Vogel</td>\n",
       "      <td>4–2</td>\n",
       "      <td>Miami Heat (5) (6, 3–3)</td>\n",
       "      <td>Erik Spoelstra</td>\n",
       "      <td>LeBron James</td>\n",
       "      <td>[99]</td>\n",
       "    </tr>\n",
       "    <tr>\n",
       "      <th>76</th>\n",
       "      <td>2021</td>\n",
       "      <td>Phoenix Suns (2) (3, 0–3)</td>\n",
       "      <td>Monty Williams</td>\n",
       "      <td>2–4</td>\n",
       "      <td>Milwaukee Bucks (3) (3, 2–1)</td>\n",
       "      <td>Mike Budenholzer</td>\n",
       "      <td>Giannis Antetokounmpo</td>\n",
       "      <td>[100]</td>\n",
       "    </tr>\n",
       "    <tr>\n",
       "      <th>77</th>\n",
       "      <td>2022</td>\n",
       "      <td>Golden State Warriors (3) (12, 7–5)</td>\n",
       "      <td>Steve Kerr</td>\n",
       "      <td>4–2</td>\n",
       "      <td>Boston Celtics (2) (22, 17–5)</td>\n",
       "      <td>Ime Udoka</td>\n",
       "      <td>Stephen Curry</td>\n",
       "      <td>[101]</td>\n",
       "    </tr>\n",
       "    <tr>\n",
       "      <th>78</th>\n",
       "      <td>2023</td>\n",
       "      <td>Denver Nuggets (1) (1, 1–0)</td>\n",
       "      <td>Michael Malone</td>\n",
       "      <td>4–1</td>\n",
       "      <td>Miami Heat (8) (7, 3–4)</td>\n",
       "      <td>Erik Spoelstra</td>\n",
       "      <td>Nikola Jokić</td>\n",
       "      <td>[102]</td>\n",
       "    </tr>\n",
       "    <tr>\n",
       "      <th>79</th>\n",
       "      <td>2024</td>\n",
       "      <td>Dallas Mavericks (5) (3, 1–2)</td>\n",
       "      <td>Jason Kidd</td>\n",
       "      <td>1–4</td>\n",
       "      <td>Boston Celtics (1) (23, 18–5)</td>\n",
       "      <td>Joe Mazzulla</td>\n",
       "      <td>Jaylen Brown</td>\n",
       "      <td>[103]</td>\n",
       "    </tr>\n",
       "  </tbody>\n",
       "</table>\n",
       "<p>80 rows × 8 columns</p>\n",
       "</div>"
      ],
      "text/plain": [
       "                                       Year  \\\n",
       "0   Basketball Association of America (BAA)   \n",
       "1                                      1947   \n",
       "2                                      1948   \n",
       "3                                      1949   \n",
       "4     National Basketball Association (NBA)   \n",
       "..                                      ...   \n",
       "75                                  2020[h]   \n",
       "76                                     2021   \n",
       "77                                     2022   \n",
       "78                                     2023   \n",
       "79                                     2024   \n",
       "\n",
       "                           Western champion  \\\n",
       "0   Basketball Association of America (BAA)   \n",
       "1                Chicago Stags (1) (1, 0–1)   \n",
       "2           Baltimore Bullets† (2) (1, 1–0)   \n",
       "3           Minneapolis Lakers (2) (1, 1–0)   \n",
       "4     National Basketball Association (NBA)   \n",
       "..                                      ...   \n",
       "75       Los Angeles Lakers (1) (32, 17–15)   \n",
       "76                Phoenix Suns (2) (3, 0–3)   \n",
       "77      Golden State Warriors (3) (12, 7–5)   \n",
       "78              Denver Nuggets (1) (1, 1–0)   \n",
       "79            Dallas Mavericks (5) (3, 1–2)   \n",
       "\n",
       "                                      Coach  \\\n",
       "0   Basketball Association of America (BAA)   \n",
       "1                              Harold Olsen   \n",
       "2                           Buddy Jeannette   \n",
       "3                               John Kundla   \n",
       "4     National Basketball Association (NBA)   \n",
       "..                                      ...   \n",
       "75                              Frank Vogel   \n",
       "76                           Monty Williams   \n",
       "77                               Steve Kerr   \n",
       "78                           Michael Malone   \n",
       "79                               Jason Kidd   \n",
       "\n",
       "                                     Result  \\\n",
       "0   Basketball Association of America (BAA)   \n",
       "1                                       1–4   \n",
       "2                                       4–2   \n",
       "3                                       4–2   \n",
       "4     National Basketball Association (NBA)   \n",
       "..                                      ...   \n",
       "75                                      4–2   \n",
       "76                                      2–4   \n",
       "77                                      4–2   \n",
       "78                                      4–1   \n",
       "79                                      1–4   \n",
       "\n",
       "                           Eastern champion  \\\n",
       "0   Basketball Association of America (BAA)   \n",
       "1        Philadelphia Warriors (2) (1, 1–0)   \n",
       "2        Philadelphia Warriors (1) (2, 1–1)   \n",
       "3          Washington Capitols (1) (1, 0–1)   \n",
       "4     National Basketball Association (NBA)   \n",
       "..                                      ...   \n",
       "75                  Miami Heat (5) (6, 3–3)   \n",
       "76             Milwaukee Bucks (3) (3, 2–1)   \n",
       "77            Boston Celtics (2) (22, 17–5)   \n",
       "78                  Miami Heat (8) (7, 3–4)   \n",
       "79            Boston Celtics (1) (23, 18–5)   \n",
       "\n",
       "                                    Coach.1  \\\n",
       "0   Basketball Association of America (BAA)   \n",
       "1                            Eddie Gottlieb   \n",
       "2                            Eddie Gottlieb   \n",
       "3                              Red Auerbach   \n",
       "4     National Basketball Association (NBA)   \n",
       "..                                      ...   \n",
       "75                           Erik Spoelstra   \n",
       "76                         Mike Budenholzer   \n",
       "77                                Ime Udoka   \n",
       "78                           Erik Spoelstra   \n",
       "79                             Joe Mazzulla   \n",
       "\n",
       "                              Finals MVP[a]  \\\n",
       "0   Basketball Association of America (BAA)   \n",
       "1                                       NaN   \n",
       "2                                       NaN   \n",
       "3                                       NaN   \n",
       "4     National Basketball Association (NBA)   \n",
       "..                                      ...   \n",
       "75                             LeBron James   \n",
       "76                    Giannis Antetokounmpo   \n",
       "77                            Stephen Curry   \n",
       "78                             Nikola Jokić   \n",
       "79                             Jaylen Brown   \n",
       "\n",
       "                                        Ref  \n",
       "0   Basketball Association of America (BAA)  \n",
       "1                                      [16]  \n",
       "2                                      [17]  \n",
       "3                                      [18]  \n",
       "4     National Basketball Association (NBA)  \n",
       "..                                      ...  \n",
       "75                                     [99]  \n",
       "76                                    [100]  \n",
       "77                                    [101]  \n",
       "78                                    [102]  \n",
       "79                                    [103]  \n",
       "\n",
       "[80 rows x 8 columns]"
      ]
     },
     "metadata": {},
     "output_type": "display_data"
    }
   ],
   "source": [
    "display(nba_chmps)"
   ]
  },
  {
   "cell_type": "markdown",
   "metadata": {},
   "source": [
    "## Add a column to a dataFrame"
   ]
  },
  {
   "cell_type": "code",
   "execution_count": 52,
   "metadata": {},
   "outputs": [
    {
     "data": {
      "text/html": [
       "<div>\n",
       "<style scoped>\n",
       "    .dataframe tbody tr th:only-of-type {\n",
       "        vertical-align: middle;\n",
       "    }\n",
       "\n",
       "    .dataframe tbody tr th {\n",
       "        vertical-align: top;\n",
       "    }\n",
       "\n",
       "    .dataframe thead th {\n",
       "        text-align: right;\n",
       "    }\n",
       "</style>\n",
       "<table border=\"1\" class=\"dataframe\">\n",
       "  <thead>\n",
       "    <tr style=\"text-align: right;\">\n",
       "      <th></th>\n",
       "      <th>Year</th>\n",
       "      <th>Western champion</th>\n",
       "      <th>Coach</th>\n",
       "      <th>Result</th>\n",
       "      <th>Eastern champion</th>\n",
       "      <th>Coach.1</th>\n",
       "      <th>Finals MVP[a]</th>\n",
       "      <th>Ref</th>\n",
       "      <th>MVP</th>\n",
       "    </tr>\n",
       "  </thead>\n",
       "  <tbody>\n",
       "    <tr>\n",
       "      <th>0</th>\n",
       "      <td>Basketball Association of America (BAA)</td>\n",
       "      <td>Basketball Association of America (BAA)</td>\n",
       "      <td>Basketball Association of America (BAA)</td>\n",
       "      <td>Basketball Association of America (BAA)</td>\n",
       "      <td>Basketball Association of America (BAA)</td>\n",
       "      <td>Basketball Association of America (BAA)</td>\n",
       "      <td>Basketball Association of America (BAA)</td>\n",
       "      <td>Basketball Association of America (BAA)</td>\n",
       "      <td>Fans</td>\n",
       "    </tr>\n",
       "    <tr>\n",
       "      <th>1</th>\n",
       "      <td>1947</td>\n",
       "      <td>Chicago Stags (1) (1, 0–1)</td>\n",
       "      <td>Harold Olsen</td>\n",
       "      <td>1–4</td>\n",
       "      <td>Philadelphia Warriors (2) (1, 1–0)</td>\n",
       "      <td>Eddie Gottlieb</td>\n",
       "      <td>NaN</td>\n",
       "      <td>[16]</td>\n",
       "      <td>Fans</td>\n",
       "    </tr>\n",
       "  </tbody>\n",
       "</table>\n",
       "</div>"
      ],
      "text/plain": [
       "                                      Year  \\\n",
       "0  Basketball Association of America (BAA)   \n",
       "1                                     1947   \n",
       "\n",
       "                          Western champion  \\\n",
       "0  Basketball Association of America (BAA)   \n",
       "1               Chicago Stags (1) (1, 0–1)   \n",
       "\n",
       "                                     Coach  \\\n",
       "0  Basketball Association of America (BAA)   \n",
       "1                             Harold Olsen   \n",
       "\n",
       "                                    Result  \\\n",
       "0  Basketball Association of America (BAA)   \n",
       "1                                      1–4   \n",
       "\n",
       "                          Eastern champion  \\\n",
       "0  Basketball Association of America (BAA)   \n",
       "1       Philadelphia Warriors (2) (1, 1–0)   \n",
       "\n",
       "                                   Coach.1  \\\n",
       "0  Basketball Association of America (BAA)   \n",
       "1                           Eddie Gottlieb   \n",
       "\n",
       "                             Finals MVP[a]  \\\n",
       "0  Basketball Association of America (BAA)   \n",
       "1                                      NaN   \n",
       "\n",
       "                                       Ref   MVP  \n",
       "0  Basketball Association of America (BAA)  Fans  \n",
       "1                                     [16]  Fans  "
      ]
     },
     "metadata": {},
     "output_type": "display_data"
    }
   ],
   "source": [
    "nba_chmps['MVP'] = 'Fans'\n",
    "display(nba_chmps.head(2))"
   ]
  },
  {
   "cell_type": "markdown",
   "metadata": {},
   "source": [
    "## Rename column/s"
   ]
  },
  {
   "cell_type": "code",
   "execution_count": 53,
   "metadata": {},
   "outputs": [],
   "source": [
    "nba_chmps.rename(columns={'MVP':'Basketball_Fans'}, \n",
    "                 inplace=True)"
   ]
  },
  {
   "cell_type": "code",
   "execution_count": 54,
   "metadata": {},
   "outputs": [
    {
     "data": {
      "text/html": [
       "<div>\n",
       "<style scoped>\n",
       "    .dataframe tbody tr th:only-of-type {\n",
       "        vertical-align: middle;\n",
       "    }\n",
       "\n",
       "    .dataframe tbody tr th {\n",
       "        vertical-align: top;\n",
       "    }\n",
       "\n",
       "    .dataframe thead th {\n",
       "        text-align: right;\n",
       "    }\n",
       "</style>\n",
       "<table border=\"1\" class=\"dataframe\">\n",
       "  <thead>\n",
       "    <tr style=\"text-align: right;\">\n",
       "      <th></th>\n",
       "      <th>Year</th>\n",
       "      <th>Western champion</th>\n",
       "      <th>Coach</th>\n",
       "      <th>Result</th>\n",
       "      <th>Eastern champion</th>\n",
       "      <th>Coach.1</th>\n",
       "      <th>Finals MVP[a]</th>\n",
       "      <th>Ref</th>\n",
       "      <th>Basketball_Fans</th>\n",
       "    </tr>\n",
       "  </thead>\n",
       "  <tbody>\n",
       "    <tr>\n",
       "      <th>0</th>\n",
       "      <td>Basketball Association of America (BAA)</td>\n",
       "      <td>Basketball Association of America (BAA)</td>\n",
       "      <td>Basketball Association of America (BAA)</td>\n",
       "      <td>Basketball Association of America (BAA)</td>\n",
       "      <td>Basketball Association of America (BAA)</td>\n",
       "      <td>Basketball Association of America (BAA)</td>\n",
       "      <td>Basketball Association of America (BAA)</td>\n",
       "      <td>Basketball Association of America (BAA)</td>\n",
       "      <td>Fans</td>\n",
       "    </tr>\n",
       "    <tr>\n",
       "      <th>1</th>\n",
       "      <td>1947</td>\n",
       "      <td>Chicago Stags (1) (1, 0–1)</td>\n",
       "      <td>Harold Olsen</td>\n",
       "      <td>1–4</td>\n",
       "      <td>Philadelphia Warriors (2) (1, 1–0)</td>\n",
       "      <td>Eddie Gottlieb</td>\n",
       "      <td>NaN</td>\n",
       "      <td>[16]</td>\n",
       "      <td>Fans</td>\n",
       "    </tr>\n",
       "  </tbody>\n",
       "</table>\n",
       "</div>"
      ],
      "text/plain": [
       "                                      Year  \\\n",
       "0  Basketball Association of America (BAA)   \n",
       "1                                     1947   \n",
       "\n",
       "                          Western champion  \\\n",
       "0  Basketball Association of America (BAA)   \n",
       "1               Chicago Stags (1) (1, 0–1)   \n",
       "\n",
       "                                     Coach  \\\n",
       "0  Basketball Association of America (BAA)   \n",
       "1                             Harold Olsen   \n",
       "\n",
       "                                    Result  \\\n",
       "0  Basketball Association of America (BAA)   \n",
       "1                                      1–4   \n",
       "\n",
       "                          Eastern champion  \\\n",
       "0  Basketball Association of America (BAA)   \n",
       "1       Philadelphia Warriors (2) (1, 1–0)   \n",
       "\n",
       "                                   Coach.1  \\\n",
       "0  Basketball Association of America (BAA)   \n",
       "1                           Eddie Gottlieb   \n",
       "\n",
       "                             Finals MVP[a]  \\\n",
       "0  Basketball Association of America (BAA)   \n",
       "1                                      NaN   \n",
       "\n",
       "                                       Ref Basketball_Fans  \n",
       "0  Basketball Association of America (BAA)            Fans  \n",
       "1                                     [16]            Fans  "
      ]
     },
     "metadata": {},
     "output_type": "display_data"
    }
   ],
   "source": [
    "display(nba_chmps.head(2))"
   ]
  },
  {
   "cell_type": "code",
   "execution_count": 55,
   "metadata": {},
   "outputs": [
    {
     "data": {
      "text/html": [
       "<div>\n",
       "<style scoped>\n",
       "    .dataframe tbody tr th:only-of-type {\n",
       "        vertical-align: middle;\n",
       "    }\n",
       "\n",
       "    .dataframe tbody tr th {\n",
       "        vertical-align: top;\n",
       "    }\n",
       "\n",
       "    .dataframe thead th {\n",
       "        text-align: right;\n",
       "    }\n",
       "</style>\n",
       "<table border=\"1\" class=\"dataframe\">\n",
       "  <thead>\n",
       "    <tr style=\"text-align: right;\">\n",
       "      <th></th>\n",
       "      <th>Year</th>\n",
       "      <th>Western champion</th>\n",
       "      <th>Coach</th>\n",
       "      <th>Result</th>\n",
       "      <th>Eastern champion</th>\n",
       "      <th>Coach.1</th>\n",
       "      <th>Finals MVP[a]</th>\n",
       "      <th>Ref</th>\n",
       "    </tr>\n",
       "  </thead>\n",
       "  <tbody>\n",
       "    <tr>\n",
       "      <th>0</th>\n",
       "      <td>Basketball Association of America (BAA)</td>\n",
       "      <td>Basketball Association of America (BAA)</td>\n",
       "      <td>Basketball Association of America (BAA)</td>\n",
       "      <td>Basketball Association of America (BAA)</td>\n",
       "      <td>Basketball Association of America (BAA)</td>\n",
       "      <td>Basketball Association of America (BAA)</td>\n",
       "      <td>Basketball Association of America (BAA)</td>\n",
       "      <td>Basketball Association of America (BAA)</td>\n",
       "    </tr>\n",
       "  </tbody>\n",
       "</table>\n",
       "</div>"
      ],
      "text/plain": [
       "                                      Year  \\\n",
       "0  Basketball Association of America (BAA)   \n",
       "\n",
       "                          Western champion  \\\n",
       "0  Basketball Association of America (BAA)   \n",
       "\n",
       "                                     Coach  \\\n",
       "0  Basketball Association of America (BAA)   \n",
       "\n",
       "                                    Result  \\\n",
       "0  Basketball Association of America (BAA)   \n",
       "\n",
       "                          Eastern champion  \\\n",
       "0  Basketball Association of America (BAA)   \n",
       "\n",
       "                                   Coach.1  \\\n",
       "0  Basketball Association of America (BAA)   \n",
       "\n",
       "                             Finals MVP[a]  \\\n",
       "0  Basketball Association of America (BAA)   \n",
       "\n",
       "                                       Ref  \n",
       "0  Basketball Association of America (BAA)  "
      ]
     },
     "execution_count": 55,
     "metadata": {},
     "output_type": "execute_result"
    }
   ],
   "source": [
    "nba_chmps.drop(columns=['Basketball_Fans'], inplace=True)\n",
    "nba_chmps.head(1)"
   ]
  },
  {
   "cell_type": "markdown",
   "metadata": {},
   "source": [
    "## Let's clean headers of a dataframe"
   ]
  },
  {
   "cell_type": "code",
   "execution_count": 56,
   "metadata": {},
   "outputs": [
    {
     "data": {
      "text/html": [
       "<div>\n",
       "<style scoped>\n",
       "    .dataframe tbody tr th:only-of-type {\n",
       "        vertical-align: middle;\n",
       "    }\n",
       "\n",
       "    .dataframe tbody tr th {\n",
       "        vertical-align: top;\n",
       "    }\n",
       "\n",
       "    .dataframe thead th {\n",
       "        text-align: right;\n",
       "    }\n",
       "</style>\n",
       "<table border=\"1\" class=\"dataframe\">\n",
       "  <thead>\n",
       "    <tr style=\"text-align: right;\">\n",
       "      <th></th>\n",
       "      <th>Year</th>\n",
       "      <th>Western_champion</th>\n",
       "      <th>Coach</th>\n",
       "      <th>Result</th>\n",
       "      <th>Eastern_champion</th>\n",
       "      <th>Coach.1</th>\n",
       "      <th>Finals_MVP[a]</th>\n",
       "      <th>Ref</th>\n",
       "    </tr>\n",
       "  </thead>\n",
       "  <tbody>\n",
       "    <tr>\n",
       "      <th>0</th>\n",
       "      <td>Basketball Association of America (BAA)</td>\n",
       "      <td>Basketball Association of America (BAA)</td>\n",
       "      <td>Basketball Association of America (BAA)</td>\n",
       "      <td>Basketball Association of America (BAA)</td>\n",
       "      <td>Basketball Association of America (BAA)</td>\n",
       "      <td>Basketball Association of America (BAA)</td>\n",
       "      <td>Basketball Association of America (BAA)</td>\n",
       "      <td>Basketball Association of America (BAA)</td>\n",
       "    </tr>\n",
       "    <tr>\n",
       "      <th>1</th>\n",
       "      <td>1947</td>\n",
       "      <td>Chicago Stags (1) (1, 0–1)</td>\n",
       "      <td>Harold Olsen</td>\n",
       "      <td>1–4</td>\n",
       "      <td>Philadelphia Warriors (2) (1, 1–0)</td>\n",
       "      <td>Eddie Gottlieb</td>\n",
       "      <td>NaN</td>\n",
       "      <td>[16]</td>\n",
       "    </tr>\n",
       "  </tbody>\n",
       "</table>\n",
       "</div>"
      ],
      "text/plain": [
       "                                      Year  \\\n",
       "0  Basketball Association of America (BAA)   \n",
       "1                                     1947   \n",
       "\n",
       "                          Western_champion  \\\n",
       "0  Basketball Association of America (BAA)   \n",
       "1               Chicago Stags (1) (1, 0–1)   \n",
       "\n",
       "                                     Coach  \\\n",
       "0  Basketball Association of America (BAA)   \n",
       "1                             Harold Olsen   \n",
       "\n",
       "                                    Result  \\\n",
       "0  Basketball Association of America (BAA)   \n",
       "1                                      1–4   \n",
       "\n",
       "                          Eastern_champion  \\\n",
       "0  Basketball Association of America (BAA)   \n",
       "1       Philadelphia Warriors (2) (1, 1–0)   \n",
       "\n",
       "                                   Coach.1  \\\n",
       "0  Basketball Association of America (BAA)   \n",
       "1                           Eddie Gottlieb   \n",
       "\n",
       "                             Finals_MVP[a]  \\\n",
       "0  Basketball Association of America (BAA)   \n",
       "1                                      NaN   \n",
       "\n",
       "                                       Ref  \n",
       "0  Basketball Association of America (BAA)  \n",
       "1                                     [16]  "
      ]
     },
     "execution_count": 56,
     "metadata": {},
     "output_type": "execute_result"
    }
   ],
   "source": [
    "# change the names\n",
    "nba_chmps.columns = [name.replace(' ','_') for name in nba_chmps.columns]\n",
    "nba_chmps.head(2)"
   ]
  },
  {
   "cell_type": "code",
   "execution_count": 57,
   "metadata": {},
   "outputs": [
    {
     "data": {
      "text/html": [
       "<div>\n",
       "<style scoped>\n",
       "    .dataframe tbody tr th:only-of-type {\n",
       "        vertical-align: middle;\n",
       "    }\n",
       "\n",
       "    .dataframe tbody tr th {\n",
       "        vertical-align: top;\n",
       "    }\n",
       "\n",
       "    .dataframe thead th {\n",
       "        text-align: right;\n",
       "    }\n",
       "</style>\n",
       "<table border=\"1\" class=\"dataframe\">\n",
       "  <thead>\n",
       "    <tr style=\"text-align: right;\">\n",
       "      <th></th>\n",
       "      <th>Year</th>\n",
       "      <th>Western_champion</th>\n",
       "      <th>Western_Coach</th>\n",
       "      <th>Result</th>\n",
       "      <th>Eastern_champion</th>\n",
       "      <th>Eastern_Coach</th>\n",
       "      <th>Finals_MVP[a]</th>\n",
       "      <th>Ref</th>\n",
       "    </tr>\n",
       "  </thead>\n",
       "  <tbody>\n",
       "    <tr>\n",
       "      <th>0</th>\n",
       "      <td>Basketball Association of America (BAA)</td>\n",
       "      <td>Basketball Association of America (BAA)</td>\n",
       "      <td>Basketball Association of America (BAA)</td>\n",
       "      <td>Basketball Association of America (BAA)</td>\n",
       "      <td>Basketball Association of America (BAA)</td>\n",
       "      <td>Basketball Association of America (BAA)</td>\n",
       "      <td>Basketball Association of America (BAA)</td>\n",
       "      <td>Basketball Association of America (BAA)</td>\n",
       "    </tr>\n",
       "    <tr>\n",
       "      <th>1</th>\n",
       "      <td>1947</td>\n",
       "      <td>Chicago Stags (1) (1, 0–1)</td>\n",
       "      <td>Harold Olsen</td>\n",
       "      <td>1–4</td>\n",
       "      <td>Philadelphia Warriors (2) (1, 1–0)</td>\n",
       "      <td>Eddie Gottlieb</td>\n",
       "      <td>NaN</td>\n",
       "      <td>[16]</td>\n",
       "    </tr>\n",
       "  </tbody>\n",
       "</table>\n",
       "</div>"
      ],
      "text/plain": [
       "                                      Year  \\\n",
       "0  Basketball Association of America (BAA)   \n",
       "1                                     1947   \n",
       "\n",
       "                          Western_champion  \\\n",
       "0  Basketball Association of America (BAA)   \n",
       "1               Chicago Stags (1) (1, 0–1)   \n",
       "\n",
       "                             Western_Coach  \\\n",
       "0  Basketball Association of America (BAA)   \n",
       "1                             Harold Olsen   \n",
       "\n",
       "                                    Result  \\\n",
       "0  Basketball Association of America (BAA)   \n",
       "1                                      1–4   \n",
       "\n",
       "                          Eastern_champion  \\\n",
       "0  Basketball Association of America (BAA)   \n",
       "1       Philadelphia Warriors (2) (1, 1–0)   \n",
       "\n",
       "                             Eastern_Coach  \\\n",
       "0  Basketball Association of America (BAA)   \n",
       "1                           Eddie Gottlieb   \n",
       "\n",
       "                             Finals_MVP[a]  \\\n",
       "0  Basketball Association of America (BAA)   \n",
       "1                                      NaN   \n",
       "\n",
       "                                       Ref  \n",
       "0  Basketball Association of America (BAA)  \n",
       "1                                     [16]  "
      ]
     },
     "execution_count": 57,
     "metadata": {},
     "output_type": "execute_result"
    }
   ],
   "source": [
    "nba_chmps.rename(columns={'Coach.1':'Eastern_Coach', \n",
    "                          'Coach':'Western_Coach'}, \n",
    "                 inplace=True)\n",
    "\n",
    "nba_chmps.head(2)"
   ]
  },
  {
   "cell_type": "markdown",
   "metadata": {},
   "source": [
    "## Two ways to call a column"
   ]
  },
  {
   "cell_type": "code",
   "execution_count": 58,
   "metadata": {},
   "outputs": [
    {
     "data": {
      "text/plain": [
       "0    Basketball Association of America (BAA)\n",
       "1                               Harold Olsen\n",
       "2                            Buddy Jeannette\n",
       "3                                John Kundla\n",
       "4      National Basketball Association (NBA)\n",
       "Name: Western_Coach, dtype: object"
      ]
     },
     "execution_count": 58,
     "metadata": {},
     "output_type": "execute_result"
    }
   ],
   "source": [
    "nba_chmps['Western_Coach'][0:5]"
   ]
  },
  {
   "cell_type": "code",
   "execution_count": 59,
   "metadata": {},
   "outputs": [
    {
     "name": "stdout",
     "output_type": "stream",
     "text": [
      "0    Basketball Association of America (BAA)\n",
      "1                                       1947\n",
      "2                                       1948\n",
      "3                                       1949\n",
      "4      National Basketball Association (NBA)\n",
      "Name: Year, dtype: object\n",
      "0    Basketball Association of America (BAA)\n",
      "1                                       1947\n",
      "2                                       1948\n",
      "3                                       1949\n",
      "4      National Basketball Association (NBA)\n",
      "Name: Year, dtype: object\n"
     ]
    }
   ],
   "source": [
    "# Option 1:\n",
    "print(nba_chmps.Year[0:5])\n",
    "\n",
    "# Option 2:\n",
    "print(nba_chmps['Year'][0:5])"
   ]
  },
  {
   "cell_type": "markdown",
   "metadata": {},
   "source": [
    "## Find the records where Gregg Popovich or Steve Kerr made it to the finals"
   ]
  },
  {
   "cell_type": "code",
   "execution_count": 60,
   "metadata": {},
   "outputs": [
    {
     "data": {
      "text/plain": [
       "0     False\n",
       "1     False\n",
       "2     False\n",
       "3     False\n",
       "4     False\n",
       "      ...  \n",
       "75    False\n",
       "76    False\n",
       "77     True\n",
       "78    False\n",
       "79    False\n",
       "Name: Western_Coach, Length: 80, dtype: bool"
      ]
     },
     "execution_count": 60,
     "metadata": {},
     "output_type": "execute_result"
    }
   ],
   "source": [
    "nba_chmps.Western_Coach.isin(['Gregg Popovich', 'Steve Kerr'])"
   ]
  },
  {
   "cell_type": "code",
   "execution_count": 61,
   "metadata": {},
   "outputs": [
    {
     "data": {
      "text/html": [
       "<div>\n",
       "<style scoped>\n",
       "    .dataframe tbody tr th:only-of-type {\n",
       "        vertical-align: middle;\n",
       "    }\n",
       "\n",
       "    .dataframe tbody tr th {\n",
       "        vertical-align: top;\n",
       "    }\n",
       "\n",
       "    .dataframe thead th {\n",
       "        text-align: right;\n",
       "    }\n",
       "</style>\n",
       "<table border=\"1\" class=\"dataframe\">\n",
       "  <thead>\n",
       "    <tr style=\"text-align: right;\">\n",
       "      <th></th>\n",
       "      <th>Year</th>\n",
       "      <th>Western_champion</th>\n",
       "      <th>Western_Coach</th>\n",
       "      <th>Result</th>\n",
       "      <th>Eastern_champion</th>\n",
       "      <th>Eastern_Coach</th>\n",
       "      <th>Finals_MVP[a]</th>\n",
       "      <th>Ref</th>\n",
       "    </tr>\n",
       "  </thead>\n",
       "  <tbody>\n",
       "    <tr>\n",
       "      <th>54</th>\n",
       "      <td>1999[f]</td>\n",
       "      <td>San Antonio Spurs (1) (1, 1–0)</td>\n",
       "      <td>Gregg Popovich</td>\n",
       "      <td>4–1</td>\n",
       "      <td>New York Knicks (8) (8, 2–6)</td>\n",
       "      <td>Jeff Van Gundy</td>\n",
       "      <td>Tim Duncan</td>\n",
       "      <td>[75]</td>\n",
       "    </tr>\n",
       "    <tr>\n",
       "      <th>58</th>\n",
       "      <td>2003</td>\n",
       "      <td>San Antonio Spurs (1) (2, 2–0)</td>\n",
       "      <td>Gregg Popovich</td>\n",
       "      <td>4–2</td>\n",
       "      <td>New Jersey Nets (2) (2, 0–2)</td>\n",
       "      <td>Byron Scott</td>\n",
       "      <td>Tim Duncan</td>\n",
       "      <td>[79]</td>\n",
       "    </tr>\n",
       "    <tr>\n",
       "      <th>60</th>\n",
       "      <td>2005</td>\n",
       "      <td>San Antonio Spurs (2) (3, 3–0)</td>\n",
       "      <td>Gregg Popovich</td>\n",
       "      <td>4–3</td>\n",
       "      <td>Detroit Pistons (2) (7, 3–4)</td>\n",
       "      <td>Larry Brown</td>\n",
       "      <td>Tim Duncan</td>\n",
       "      <td>[81]</td>\n",
       "    </tr>\n",
       "    <tr>\n",
       "      <th>62</th>\n",
       "      <td>2007</td>\n",
       "      <td>San Antonio Spurs (3) (4, 4–0)</td>\n",
       "      <td>Gregg Popovich</td>\n",
       "      <td>4–0</td>\n",
       "      <td>Cleveland Cavaliers (2) (1, 0–1)</td>\n",
       "      <td>Mike Brown</td>\n",
       "      <td>Tony Parker</td>\n",
       "      <td>[83]</td>\n",
       "    </tr>\n",
       "    <tr>\n",
       "      <th>68</th>\n",
       "      <td>2013</td>\n",
       "      <td>San Antonio Spurs (2) (5, 4–1)</td>\n",
       "      <td>Gregg Popovich</td>\n",
       "      <td>3–4</td>\n",
       "      <td>Miami Heat (1) (4, 3–1)</td>\n",
       "      <td>Erik Spoelstra</td>\n",
       "      <td>LeBron James</td>\n",
       "      <td>[91]</td>\n",
       "    </tr>\n",
       "    <tr>\n",
       "      <th>69</th>\n",
       "      <td>2014</td>\n",
       "      <td>San Antonio Spurs (1) (6, 5–1)</td>\n",
       "      <td>Gregg Popovich</td>\n",
       "      <td>4–1</td>\n",
       "      <td>Miami Heat (2) (5, 3–2)</td>\n",
       "      <td>Erik Spoelstra</td>\n",
       "      <td>Kawhi Leonard</td>\n",
       "      <td>[92]</td>\n",
       "    </tr>\n",
       "    <tr>\n",
       "      <th>70</th>\n",
       "      <td>2015</td>\n",
       "      <td>Golden State Warriors (1) (7, 4–3)</td>\n",
       "      <td>Steve Kerr</td>\n",
       "      <td>4–2</td>\n",
       "      <td>Cleveland Cavaliers (2) (2, 0–2)</td>\n",
       "      <td>David Blatt</td>\n",
       "      <td>Andre Iguodala</td>\n",
       "      <td>[93]</td>\n",
       "    </tr>\n",
       "    <tr>\n",
       "      <th>71</th>\n",
       "      <td>2016</td>\n",
       "      <td>Golden State Warriors (1) (8, 4–4)</td>\n",
       "      <td>Steve Kerr</td>\n",
       "      <td>3–4</td>\n",
       "      <td>Cleveland Cavaliers (1) (3, 1–2)</td>\n",
       "      <td>Tyronn Lue</td>\n",
       "      <td>LeBron James</td>\n",
       "      <td>[94]</td>\n",
       "    </tr>\n",
       "    <tr>\n",
       "      <th>72</th>\n",
       "      <td>2017</td>\n",
       "      <td>Golden State Warriors (1) (9, 5–4)</td>\n",
       "      <td>Steve Kerr</td>\n",
       "      <td>4–1</td>\n",
       "      <td>Cleveland Cavaliers (2) (4, 1–3)</td>\n",
       "      <td>Tyronn Lue</td>\n",
       "      <td>Kevin Durant</td>\n",
       "      <td>[95]</td>\n",
       "    </tr>\n",
       "    <tr>\n",
       "      <th>73</th>\n",
       "      <td>2018</td>\n",
       "      <td>Golden State Warriors (2) (10, 6–4)</td>\n",
       "      <td>Steve Kerr</td>\n",
       "      <td>4–0</td>\n",
       "      <td>Cleveland Cavaliers (4) (5, 1–4)</td>\n",
       "      <td>Tyronn Lue</td>\n",
       "      <td>Kevin Durant</td>\n",
       "      <td>[96]</td>\n",
       "    </tr>\n",
       "    <tr>\n",
       "      <th>74</th>\n",
       "      <td>2019</td>\n",
       "      <td>Golden State Warriors (1) (11, 6–5)</td>\n",
       "      <td>Steve Kerr</td>\n",
       "      <td>2–4</td>\n",
       "      <td>Toronto Raptors (2) (1, 1–0)</td>\n",
       "      <td>Nick Nurse</td>\n",
       "      <td>Kawhi Leonard</td>\n",
       "      <td>[97]</td>\n",
       "    </tr>\n",
       "    <tr>\n",
       "      <th>77</th>\n",
       "      <td>2022</td>\n",
       "      <td>Golden State Warriors (3) (12, 7–5)</td>\n",
       "      <td>Steve Kerr</td>\n",
       "      <td>4–2</td>\n",
       "      <td>Boston Celtics (2) (22, 17–5)</td>\n",
       "      <td>Ime Udoka</td>\n",
       "      <td>Stephen Curry</td>\n",
       "      <td>[101]</td>\n",
       "    </tr>\n",
       "  </tbody>\n",
       "</table>\n",
       "</div>"
      ],
      "text/plain": [
       "       Year                     Western_champion   Western_Coach Result  \\\n",
       "54  1999[f]       San Antonio Spurs (1) (1, 1–0)  Gregg Popovich    4–1   \n",
       "58     2003       San Antonio Spurs (1) (2, 2–0)  Gregg Popovich    4–2   \n",
       "60     2005       San Antonio Spurs (2) (3, 3–0)  Gregg Popovich    4–3   \n",
       "62     2007       San Antonio Spurs (3) (4, 4–0)  Gregg Popovich    4–0   \n",
       "68     2013       San Antonio Spurs (2) (5, 4–1)  Gregg Popovich    3–4   \n",
       "69     2014       San Antonio Spurs (1) (6, 5–1)  Gregg Popovich    4–1   \n",
       "70     2015   Golden State Warriors (1) (7, 4–3)      Steve Kerr    4–2   \n",
       "71     2016   Golden State Warriors (1) (8, 4–4)      Steve Kerr    3–4   \n",
       "72     2017   Golden State Warriors (1) (9, 5–4)      Steve Kerr    4–1   \n",
       "73     2018  Golden State Warriors (2) (10, 6–4)      Steve Kerr    4–0   \n",
       "74     2019  Golden State Warriors (1) (11, 6–5)      Steve Kerr    2–4   \n",
       "77     2022  Golden State Warriors (3) (12, 7–5)      Steve Kerr    4–2   \n",
       "\n",
       "                    Eastern_champion   Eastern_Coach   Finals_MVP[a]    Ref  \n",
       "54      New York Knicks (8) (8, 2–6)  Jeff Van Gundy      Tim Duncan   [75]  \n",
       "58      New Jersey Nets (2) (2, 0–2)     Byron Scott      Tim Duncan   [79]  \n",
       "60      Detroit Pistons (2) (7, 3–4)     Larry Brown      Tim Duncan   [81]  \n",
       "62  Cleveland Cavaliers (2) (1, 0–1)      Mike Brown     Tony Parker   [83]  \n",
       "68           Miami Heat (1) (4, 3–1)  Erik Spoelstra    LeBron James   [91]  \n",
       "69           Miami Heat (2) (5, 3–2)  Erik Spoelstra   Kawhi Leonard   [92]  \n",
       "70  Cleveland Cavaliers (2) (2, 0–2)     David Blatt  Andre Iguodala   [93]  \n",
       "71  Cleveland Cavaliers (1) (3, 1–2)      Tyronn Lue    LeBron James   [94]  \n",
       "72  Cleveland Cavaliers (2) (4, 1–3)      Tyronn Lue    Kevin Durant   [95]  \n",
       "73  Cleveland Cavaliers (4) (5, 1–4)      Tyronn Lue    Kevin Durant   [96]  \n",
       "74      Toronto Raptors (2) (1, 1–0)      Nick Nurse   Kawhi Leonard   [97]  \n",
       "77     Boston Celtics (2) (22, 17–5)       Ime Udoka   Stephen Curry  [101]  "
      ]
     },
     "execution_count": 61,
     "metadata": {},
     "output_type": "execute_result"
    }
   ],
   "source": [
    "nba_chmps[(nba_chmps.Western_Coach.isin(['Gregg Popovich', 'Steve Kerr'])) \n",
    "          | (nba_chmps.Eastern_Coach.isin(['Gregg Popovich', 'Steve Kerr']))]"
   ]
  },
  {
   "cell_type": "markdown",
   "metadata": {},
   "source": [
    "## Task:\n",
    "1. Add a column: If the western team won, then \"Western\" else \"Eastern\"\n",
    "2. Find how many championships went Eastern/Western"
   ]
  },
  {
   "cell_type": "code",
   "execution_count": 62,
   "metadata": {},
   "outputs": [
    {
     "data": {
      "text/plain": [
       "['W', 'E', 'W', 'W', 'E']"
      ]
     },
     "execution_count": 62,
     "metadata": {},
     "output_type": "execute_result"
    }
   ],
   "source": [
    "R = ['4-2', '3-4', '4-0', '4-1', '2-4']\n",
    "['W' if each[0]=='4' else 'E' for each in R]"
   ]
  },
  {
   "cell_type": "code",
   "execution_count": null,
   "metadata": {},
   "outputs": [],
   "source": []
  },
  {
   "cell_type": "code",
   "execution_count": 63,
   "metadata": {},
   "outputs": [
    {
     "data": {
      "text/html": [
       "<div>\n",
       "<style scoped>\n",
       "    .dataframe tbody tr th:only-of-type {\n",
       "        vertical-align: middle;\n",
       "    }\n",
       "\n",
       "    .dataframe tbody tr th {\n",
       "        vertical-align: top;\n",
       "    }\n",
       "\n",
       "    .dataframe thead th {\n",
       "        text-align: right;\n",
       "    }\n",
       "</style>\n",
       "<table border=\"1\" class=\"dataframe\">\n",
       "  <thead>\n",
       "    <tr style=\"text-align: right;\">\n",
       "      <th></th>\n",
       "      <th>Year</th>\n",
       "      <th>Western_champion</th>\n",
       "      <th>Western_Coach</th>\n",
       "      <th>Result</th>\n",
       "      <th>Eastern_champion</th>\n",
       "      <th>Eastern_Coach</th>\n",
       "      <th>Finals_MVP[a]</th>\n",
       "      <th>Ref</th>\n",
       "      <th>Champ</th>\n",
       "    </tr>\n",
       "  </thead>\n",
       "  <tbody>\n",
       "    <tr>\n",
       "      <th>0</th>\n",
       "      <td>Basketball Association of America (BAA)</td>\n",
       "      <td>Basketball Association of America (BAA)</td>\n",
       "      <td>Basketball Association of America (BAA)</td>\n",
       "      <td>Basketball Association of America (BAA)</td>\n",
       "      <td>Basketball Association of America (BAA)</td>\n",
       "      <td>Basketball Association of America (BAA)</td>\n",
       "      <td>Basketball Association of America (BAA)</td>\n",
       "      <td>Basketball Association of America (BAA)</td>\n",
       "      <td>Eastern</td>\n",
       "    </tr>\n",
       "    <tr>\n",
       "      <th>1</th>\n",
       "      <td>1947</td>\n",
       "      <td>Chicago Stags (1) (1, 0–1)</td>\n",
       "      <td>Harold Olsen</td>\n",
       "      <td>1–4</td>\n",
       "      <td>Philadelphia Warriors (2) (1, 1–0)</td>\n",
       "      <td>Eddie Gottlieb</td>\n",
       "      <td>NaN</td>\n",
       "      <td>[16]</td>\n",
       "      <td>Eastern</td>\n",
       "    </tr>\n",
       "    <tr>\n",
       "      <th>2</th>\n",
       "      <td>1948</td>\n",
       "      <td>Baltimore Bullets† (2) (1, 1–0)</td>\n",
       "      <td>Buddy Jeannette</td>\n",
       "      <td>4–2</td>\n",
       "      <td>Philadelphia Warriors (1) (2, 1–1)</td>\n",
       "      <td>Eddie Gottlieb</td>\n",
       "      <td>NaN</td>\n",
       "      <td>[17]</td>\n",
       "      <td>Western</td>\n",
       "    </tr>\n",
       "    <tr>\n",
       "      <th>3</th>\n",
       "      <td>1949</td>\n",
       "      <td>Minneapolis Lakers (2) (1, 1–0)</td>\n",
       "      <td>John Kundla</td>\n",
       "      <td>4–2</td>\n",
       "      <td>Washington Capitols (1) (1, 0–1)</td>\n",
       "      <td>Red Auerbach</td>\n",
       "      <td>NaN</td>\n",
       "      <td>[18]</td>\n",
       "      <td>Western</td>\n",
       "    </tr>\n",
       "    <tr>\n",
       "      <th>4</th>\n",
       "      <td>National Basketball Association (NBA)</td>\n",
       "      <td>National Basketball Association (NBA)</td>\n",
       "      <td>National Basketball Association (NBA)</td>\n",
       "      <td>National Basketball Association (NBA)</td>\n",
       "      <td>National Basketball Association (NBA)</td>\n",
       "      <td>National Basketball Association (NBA)</td>\n",
       "      <td>National Basketball Association (NBA)</td>\n",
       "      <td>National Basketball Association (NBA)</td>\n",
       "      <td>Eastern</td>\n",
       "    </tr>\n",
       "  </tbody>\n",
       "</table>\n",
       "</div>"
      ],
      "text/plain": [
       "                                      Year  \\\n",
       "0  Basketball Association of America (BAA)   \n",
       "1                                     1947   \n",
       "2                                     1948   \n",
       "3                                     1949   \n",
       "4    National Basketball Association (NBA)   \n",
       "\n",
       "                          Western_champion  \\\n",
       "0  Basketball Association of America (BAA)   \n",
       "1               Chicago Stags (1) (1, 0–1)   \n",
       "2          Baltimore Bullets† (2) (1, 1–0)   \n",
       "3          Minneapolis Lakers (2) (1, 1–0)   \n",
       "4    National Basketball Association (NBA)   \n",
       "\n",
       "                             Western_Coach  \\\n",
       "0  Basketball Association of America (BAA)   \n",
       "1                             Harold Olsen   \n",
       "2                          Buddy Jeannette   \n",
       "3                              John Kundla   \n",
       "4    National Basketball Association (NBA)   \n",
       "\n",
       "                                    Result  \\\n",
       "0  Basketball Association of America (BAA)   \n",
       "1                                      1–4   \n",
       "2                                      4–2   \n",
       "3                                      4–2   \n",
       "4    National Basketball Association (NBA)   \n",
       "\n",
       "                          Eastern_champion  \\\n",
       "0  Basketball Association of America (BAA)   \n",
       "1       Philadelphia Warriors (2) (1, 1–0)   \n",
       "2       Philadelphia Warriors (1) (2, 1–1)   \n",
       "3         Washington Capitols (1) (1, 0–1)   \n",
       "4    National Basketball Association (NBA)   \n",
       "\n",
       "                             Eastern_Coach  \\\n",
       "0  Basketball Association of America (BAA)   \n",
       "1                           Eddie Gottlieb   \n",
       "2                           Eddie Gottlieb   \n",
       "3                             Red Auerbach   \n",
       "4    National Basketball Association (NBA)   \n",
       "\n",
       "                             Finals_MVP[a]  \\\n",
       "0  Basketball Association of America (BAA)   \n",
       "1                                      NaN   \n",
       "2                                      NaN   \n",
       "3                                      NaN   \n",
       "4    National Basketball Association (NBA)   \n",
       "\n",
       "                                       Ref    Champ  \n",
       "0  Basketball Association of America (BAA)  Eastern  \n",
       "1                                     [16]  Eastern  \n",
       "2                                     [17]  Western  \n",
       "3                                     [18]  Western  \n",
       "4    National Basketball Association (NBA)  Eastern  "
      ]
     },
     "execution_count": 63,
     "metadata": {},
     "output_type": "execute_result"
    }
   ],
   "source": [
    "results = nba_chmps.Result.tolist()\n",
    "winning = ['Western' if result[0]=='4' else 'Eastern' for result in results]\n",
    "\n",
    "nba_chmps['Champ'] = winning\n",
    "nba_chmps.head()"
   ]
  },
  {
   "cell_type": "markdown",
   "metadata": {},
   "source": [
    "# How can we eliminate all mistaken rows?"
   ]
  },
  {
   "cell_type": "code",
   "execution_count": 46,
   "metadata": {},
   "outputs": [
    {
     "data": {
      "text/html": [
       "<div>\n",
       "<style scoped>\n",
       "    .dataframe tbody tr th:only-of-type {\n",
       "        vertical-align: middle;\n",
       "    }\n",
       "\n",
       "    .dataframe tbody tr th {\n",
       "        vertical-align: top;\n",
       "    }\n",
       "\n",
       "    .dataframe thead th {\n",
       "        text-align: right;\n",
       "    }\n",
       "</style>\n",
       "<table border=\"1\" class=\"dataframe\">\n",
       "  <thead>\n",
       "    <tr style=\"text-align: right;\">\n",
       "      <th></th>\n",
       "      <th>Year</th>\n",
       "      <th>Western_champion</th>\n",
       "      <th>Western_Coach</th>\n",
       "      <th>Result</th>\n",
       "      <th>Eastern_champion</th>\n",
       "      <th>Eastern_Coach</th>\n",
       "      <th>Finals_MVP[a]</th>\n",
       "      <th>Ref</th>\n",
       "      <th>Champ</th>\n",
       "    </tr>\n",
       "  </thead>\n",
       "  <tbody>\n",
       "    <tr>\n",
       "      <th>1</th>\n",
       "      <td>1947</td>\n",
       "      <td>Chicago Stags (1) (1, 0–1)</td>\n",
       "      <td>Harold Olsen</td>\n",
       "      <td>1–4</td>\n",
       "      <td>Philadelphia Warriors (2) (1, 1–0)</td>\n",
       "      <td>Eddie Gottlieb</td>\n",
       "      <td>NaN</td>\n",
       "      <td>[16]</td>\n",
       "      <td>Eastern</td>\n",
       "    </tr>\n",
       "    <tr>\n",
       "      <th>2</th>\n",
       "      <td>1948</td>\n",
       "      <td>Baltimore Bullets† (2) (1, 1–0)</td>\n",
       "      <td>Buddy Jeannette</td>\n",
       "      <td>4–2</td>\n",
       "      <td>Philadelphia Warriors (1) (2, 1–1)</td>\n",
       "      <td>Eddie Gottlieb</td>\n",
       "      <td>NaN</td>\n",
       "      <td>[17]</td>\n",
       "      <td>Western</td>\n",
       "    </tr>\n",
       "    <tr>\n",
       "      <th>3</th>\n",
       "      <td>1949</td>\n",
       "      <td>Minneapolis Lakers (2) (1, 1–0)</td>\n",
       "      <td>John Kundla</td>\n",
       "      <td>4–2</td>\n",
       "      <td>Washington Capitols (1) (1, 0–1)</td>\n",
       "      <td>Red Auerbach</td>\n",
       "      <td>NaN</td>\n",
       "      <td>[18]</td>\n",
       "      <td>Western</td>\n",
       "    </tr>\n",
       "    <tr>\n",
       "      <th>5</th>\n",
       "      <td>1950</td>\n",
       "      <td>Minneapolis Lakers (1) [b] (2, 2–0)</td>\n",
       "      <td>John Kundla</td>\n",
       "      <td>4–2</td>\n",
       "      <td>Syracuse Nationals (1) (1, 0–1)</td>\n",
       "      <td>Al Cervi</td>\n",
       "      <td>NaN</td>\n",
       "      <td>[22][23]</td>\n",
       "      <td>Western</td>\n",
       "    </tr>\n",
       "    <tr>\n",
       "      <th>6</th>\n",
       "      <td>1951</td>\n",
       "      <td>Rochester Royals (2) (1, 1–0)</td>\n",
       "      <td>Les Harrison</td>\n",
       "      <td>4–3</td>\n",
       "      <td>New York Knicks (3) (1, 0–1)</td>\n",
       "      <td>Joe Lapchick</td>\n",
       "      <td>NaN</td>\n",
       "      <td>[24]</td>\n",
       "      <td>Western</td>\n",
       "    </tr>\n",
       "  </tbody>\n",
       "</table>\n",
       "</div>"
      ],
      "text/plain": [
       "   Year                     Western_champion    Western_Coach Result  \\\n",
       "1  1947           Chicago Stags (1) (1, 0–1)     Harold Olsen    1–4   \n",
       "2  1948      Baltimore Bullets† (2) (1, 1–0)  Buddy Jeannette    4–2   \n",
       "3  1949      Minneapolis Lakers (2) (1, 1–0)      John Kundla    4–2   \n",
       "5  1950  Minneapolis Lakers (1) [b] (2, 2–0)      John Kundla    4–2   \n",
       "6  1951        Rochester Royals (2) (1, 1–0)     Les Harrison    4–3   \n",
       "\n",
       "                     Eastern_champion   Eastern_Coach Finals_MVP[a]       Ref  \\\n",
       "1  Philadelphia Warriors (2) (1, 1–0)  Eddie Gottlieb           NaN      [16]   \n",
       "2  Philadelphia Warriors (1) (2, 1–1)  Eddie Gottlieb           NaN      [17]   \n",
       "3    Washington Capitols (1) (1, 0–1)    Red Auerbach           NaN      [18]   \n",
       "5     Syracuse Nationals (1) (1, 0–1)        Al Cervi           NaN  [22][23]   \n",
       "6        New York Knicks (3) (1, 0–1)    Joe Lapchick           NaN      [24]   \n",
       "\n",
       "     Champ  \n",
       "1  Eastern  \n",
       "2  Western  \n",
       "3  Western  \n",
       "5  Western  \n",
       "6  Western  "
      ]
     },
     "execution_count": 46,
     "metadata": {},
     "output_type": "execute_result"
    }
   ],
   "source": [
    "nba_chmps = nba_chmps[(nba_chmps.Year.str.startswith('1')) | (nba_chmps.Year.str.startswith('2'))]\n",
    "nba_chmps.head()"
   ]
  },
  {
   "cell_type": "markdown",
   "metadata": {},
   "source": [
    "# Count the \"Western\" vs \"Eastern\""
   ]
  },
  {
   "cell_type": "code",
   "execution_count": 47,
   "metadata": {},
   "outputs": [
    {
     "data": {
      "text/plain": [
       "Champ\n",
       "Eastern    41\n",
       "Western    37\n",
       "Name: count, dtype: int64"
      ]
     },
     "execution_count": 47,
     "metadata": {},
     "output_type": "execute_result"
    }
   ],
   "source": [
    "nba_chmps.Champ.value_counts()"
   ]
  },
  {
   "cell_type": "markdown",
   "metadata": {},
   "source": [
    "# Unique Values"
   ]
  },
  {
   "cell_type": "code",
   "execution_count": 48,
   "metadata": {},
   "outputs": [
    {
     "data": {
      "text/plain": [
       "array(['Eastern', 'Western'], dtype=object)"
      ]
     },
     "execution_count": 48,
     "metadata": {},
     "output_type": "execute_result"
    }
   ],
   "source": [
    "nba_chmps.Champ.unique()"
   ]
  },
  {
   "cell_type": "markdown",
   "metadata": {
    "collapsed": true,
    "jupyter": {
     "outputs_hidden": true
    }
   },
   "source": [
    "## To find who won the NBA championship in ['1974', '1987', '1995', '2015']"
   ]
  },
  {
   "cell_type": "code",
   "execution_count": 49,
   "metadata": {},
   "outputs": [
    {
     "name": "stdout",
     "output_type": "stream",
     "text": [
      "1974 :\t Boston Celtics (1) (13, 12–1)\n",
      "1987 :\t Los Angeles Lakers (1) (21, 10–11)\n",
      "1995 :\t Houston Rockets (6) (4, 2–2)\n",
      "2015 :\t Golden State Warriors (1) (7, 4–3)\n"
     ]
    }
   ],
   "source": [
    "years = ['1974', '1987', '1995', '2015']\n",
    "for year in years:\n",
    "    condition = nba_chmps.Year==year\n",
    "    west_team = nba_chmps.Western_champion[condition].values[0]\n",
    "    east_team = nba_chmps.Eastern_champion[condition].values[0]\n",
    "\n",
    "    print(year,':\\t', west_team if nba_chmps.Result[condition].values[0][0]=='4' else east_team)"
   ]
  },
  {
   "cell_type": "code",
   "execution_count": 50,
   "metadata": {},
   "outputs": [
    {
     "data": {
      "text/html": [
       "<div>\n",
       "<style scoped>\n",
       "    .dataframe tbody tr th:only-of-type {\n",
       "        vertical-align: middle;\n",
       "    }\n",
       "\n",
       "    .dataframe tbody tr th {\n",
       "        vertical-align: top;\n",
       "    }\n",
       "\n",
       "    .dataframe thead th {\n",
       "        text-align: right;\n",
       "    }\n",
       "</style>\n",
       "<table border=\"1\" class=\"dataframe\">\n",
       "  <thead>\n",
       "    <tr style=\"text-align: right;\">\n",
       "      <th></th>\n",
       "      <th>Year</th>\n",
       "      <th>Western_champion</th>\n",
       "      <th>Western_Coach</th>\n",
       "      <th>Result</th>\n",
       "      <th>Eastern_champion</th>\n",
       "      <th>Eastern_Coach</th>\n",
       "      <th>Finals_MVP[a]</th>\n",
       "      <th>Ref</th>\n",
       "      <th>Champ</th>\n",
       "    </tr>\n",
       "  </thead>\n",
       "  <tbody>\n",
       "    <tr>\n",
       "      <th>29</th>\n",
       "      <td>1974</td>\n",
       "      <td>Milwaukee Bucks (1) (2, 1–1)</td>\n",
       "      <td>Larry Costello</td>\n",
       "      <td>3–4</td>\n",
       "      <td>Boston Celtics (1) (13, 12–1)</td>\n",
       "      <td>Tom Heinsohn</td>\n",
       "      <td>John Havlicek</td>\n",
       "      <td>[47]</td>\n",
       "      <td>Eastern</td>\n",
       "    </tr>\n",
       "    <tr>\n",
       "      <th>42</th>\n",
       "      <td>1987</td>\n",
       "      <td>Los Angeles Lakers (1) (21, 10–11)</td>\n",
       "      <td>Pat Riley</td>\n",
       "      <td>4–2</td>\n",
       "      <td>Boston Celtics (1) (19, 16–3)</td>\n",
       "      <td>K. C. Jones</td>\n",
       "      <td>Magic Johnson</td>\n",
       "      <td>[62]</td>\n",
       "      <td>Western</td>\n",
       "    </tr>\n",
       "    <tr>\n",
       "      <th>50</th>\n",
       "      <td>1995</td>\n",
       "      <td>Houston Rockets (6) (4, 2–2)</td>\n",
       "      <td>Rudy Tomjanovich</td>\n",
       "      <td>4–0</td>\n",
       "      <td>Orlando Magic (1) (1, 0–1)</td>\n",
       "      <td>Brian Hill</td>\n",
       "      <td>Hakeem Olajuwon</td>\n",
       "      <td>[70]</td>\n",
       "      <td>Western</td>\n",
       "    </tr>\n",
       "    <tr>\n",
       "      <th>70</th>\n",
       "      <td>2015</td>\n",
       "      <td>Golden State Warriors (1) (7, 4–3)</td>\n",
       "      <td>Steve Kerr</td>\n",
       "      <td>4–2</td>\n",
       "      <td>Cleveland Cavaliers (2) (2, 0–2)</td>\n",
       "      <td>David Blatt</td>\n",
       "      <td>Andre Iguodala</td>\n",
       "      <td>[93]</td>\n",
       "      <td>Western</td>\n",
       "    </tr>\n",
       "  </tbody>\n",
       "</table>\n",
       "</div>"
      ],
      "text/plain": [
       "    Year                    Western_champion     Western_Coach Result  \\\n",
       "29  1974        Milwaukee Bucks (1) (2, 1–1)    Larry Costello    3–4   \n",
       "42  1987  Los Angeles Lakers (1) (21, 10–11)         Pat Riley    4–2   \n",
       "50  1995        Houston Rockets (6) (4, 2–2)  Rudy Tomjanovich    4–0   \n",
       "70  2015  Golden State Warriors (1) (7, 4–3)        Steve Kerr    4–2   \n",
       "\n",
       "                    Eastern_champion Eastern_Coach    Finals_MVP[a]   Ref  \\\n",
       "29     Boston Celtics (1) (13, 12–1)  Tom Heinsohn    John Havlicek  [47]   \n",
       "42     Boston Celtics (1) (19, 16–3)   K. C. Jones    Magic Johnson  [62]   \n",
       "50        Orlando Magic (1) (1, 0–1)    Brian Hill  Hakeem Olajuwon  [70]   \n",
       "70  Cleveland Cavaliers (2) (2, 0–2)   David Blatt   Andre Iguodala  [93]   \n",
       "\n",
       "      Champ  \n",
       "29  Eastern  \n",
       "42  Western  \n",
       "50  Western  \n",
       "70  Western  "
      ]
     },
     "execution_count": 50,
     "metadata": {},
     "output_type": "execute_result"
    }
   ],
   "source": [
    "nba_chmps[nba_chmps.Year.isin(years)]"
   ]
  },
  {
   "cell_type": "markdown",
   "metadata": {},
   "source": [
    "## How to select several columns"
   ]
  },
  {
   "cell_type": "code",
   "execution_count": 51,
   "metadata": {},
   "outputs": [
    {
     "data": {
      "text/html": [
       "<div>\n",
       "<style scoped>\n",
       "    .dataframe tbody tr th:only-of-type {\n",
       "        vertical-align: middle;\n",
       "    }\n",
       "\n",
       "    .dataframe tbody tr th {\n",
       "        vertical-align: top;\n",
       "    }\n",
       "\n",
       "    .dataframe thead th {\n",
       "        text-align: right;\n",
       "    }\n",
       "</style>\n",
       "<table border=\"1\" class=\"dataframe\">\n",
       "  <thead>\n",
       "    <tr style=\"text-align: right;\">\n",
       "      <th></th>\n",
       "      <th>Year</th>\n",
       "      <th>Western_champion</th>\n",
       "      <th>Western_Coach</th>\n",
       "      <th>Result</th>\n",
       "      <th>Eastern_champion</th>\n",
       "      <th>Eastern_Coach</th>\n",
       "      <th>Finals_MVP[a]</th>\n",
       "      <th>Ref</th>\n",
       "      <th>Champ</th>\n",
       "    </tr>\n",
       "  </thead>\n",
       "  <tbody>\n",
       "    <tr>\n",
       "      <th>1</th>\n",
       "      <td>1947</td>\n",
       "      <td>Chicago Stags (1) (1, 0–1)</td>\n",
       "      <td>Harold Olsen</td>\n",
       "      <td>1–4</td>\n",
       "      <td>Philadelphia Warriors (2) (1, 1–0)</td>\n",
       "      <td>Eddie Gottlieb</td>\n",
       "      <td>NaN</td>\n",
       "      <td>[16]</td>\n",
       "      <td>Eastern</td>\n",
       "    </tr>\n",
       "    <tr>\n",
       "      <th>2</th>\n",
       "      <td>1948</td>\n",
       "      <td>Baltimore Bullets† (2) (1, 1–0)</td>\n",
       "      <td>Buddy Jeannette</td>\n",
       "      <td>4–2</td>\n",
       "      <td>Philadelphia Warriors (1) (2, 1–1)</td>\n",
       "      <td>Eddie Gottlieb</td>\n",
       "      <td>NaN</td>\n",
       "      <td>[17]</td>\n",
       "      <td>Western</td>\n",
       "    </tr>\n",
       "  </tbody>\n",
       "</table>\n",
       "</div>"
      ],
      "text/plain": [
       "   Year                 Western_champion    Western_Coach Result  \\\n",
       "1  1947       Chicago Stags (1) (1, 0–1)     Harold Olsen    1–4   \n",
       "2  1948  Baltimore Bullets† (2) (1, 1–0)  Buddy Jeannette    4–2   \n",
       "\n",
       "                     Eastern_champion   Eastern_Coach Finals_MVP[a]   Ref  \\\n",
       "1  Philadelphia Warriors (2) (1, 1–0)  Eddie Gottlieb           NaN  [16]   \n",
       "2  Philadelphia Warriors (1) (2, 1–1)  Eddie Gottlieb           NaN  [17]   \n",
       "\n",
       "     Champ  \n",
       "1  Eastern  \n",
       "2  Western  "
      ]
     },
     "execution_count": 51,
     "metadata": {},
     "output_type": "execute_result"
    }
   ],
   "source": [
    "nba_chmps.head(2)"
   ]
  },
  {
   "cell_type": "code",
   "execution_count": 52,
   "metadata": {},
   "outputs": [
    {
     "data": {
      "text/html": [
       "<div>\n",
       "<style scoped>\n",
       "    .dataframe tbody tr th:only-of-type {\n",
       "        vertical-align: middle;\n",
       "    }\n",
       "\n",
       "    .dataframe tbody tr th {\n",
       "        vertical-align: top;\n",
       "    }\n",
       "\n",
       "    .dataframe thead th {\n",
       "        text-align: right;\n",
       "    }\n",
       "</style>\n",
       "<table border=\"1\" class=\"dataframe\">\n",
       "  <thead>\n",
       "    <tr style=\"text-align: right;\">\n",
       "      <th></th>\n",
       "      <th>Year</th>\n",
       "      <th>Western_champion</th>\n",
       "      <th>Eastern_champion</th>\n",
       "    </tr>\n",
       "  </thead>\n",
       "  <tbody>\n",
       "    <tr>\n",
       "      <th>1</th>\n",
       "      <td>1947</td>\n",
       "      <td>Chicago Stags (1) (1, 0–1)</td>\n",
       "      <td>Philadelphia Warriors (2) (1, 1–0)</td>\n",
       "    </tr>\n",
       "    <tr>\n",
       "      <th>2</th>\n",
       "      <td>1948</td>\n",
       "      <td>Baltimore Bullets† (2) (1, 1–0)</td>\n",
       "      <td>Philadelphia Warriors (1) (2, 1–1)</td>\n",
       "    </tr>\n",
       "    <tr>\n",
       "      <th>3</th>\n",
       "      <td>1949</td>\n",
       "      <td>Minneapolis Lakers (2) (1, 1–0)</td>\n",
       "      <td>Washington Capitols (1) (1, 0–1)</td>\n",
       "    </tr>\n",
       "  </tbody>\n",
       "</table>\n",
       "</div>"
      ],
      "text/plain": [
       "   Year                 Western_champion                    Eastern_champion\n",
       "1  1947       Chicago Stags (1) (1, 0–1)  Philadelphia Warriors (2) (1, 1–0)\n",
       "2  1948  Baltimore Bullets† (2) (1, 1–0)  Philadelphia Warriors (1) (2, 1–1)\n",
       "3  1949  Minneapolis Lakers (2) (1, 1–0)    Washington Capitols (1) (1, 0–1)"
      ]
     },
     "execution_count": 52,
     "metadata": {},
     "output_type": "execute_result"
    }
   ],
   "source": [
    "nba_chmps[['Year', 'Western_champion', 'Eastern_champion']].head(3)"
   ]
  },
  {
   "cell_type": "code",
   "execution_count": 53,
   "metadata": {},
   "outputs": [],
   "source": [
    "nba_chmps.to_html('Test.html')\n"
   ]
  },
  {
   "cell_type": "code",
   "execution_count": 54,
   "metadata": {},
   "outputs": [],
   "source": [
    "! open Test.html"
   ]
  },
  {
   "cell_type": "code",
   "execution_count": null,
   "metadata": {},
   "outputs": [],
   "source": []
  }
 ],
 "metadata": {
  "kernelspec": {
   "display_name": "Python 3 (ipykernel)",
   "language": "python",
   "name": "python3"
  },
  "language_info": {
   "codemirror_mode": {
    "name": "ipython",
    "version": 3
   },
   "file_extension": ".py",
   "mimetype": "text/x-python",
   "name": "python",
   "nbconvert_exporter": "python",
   "pygments_lexer": "ipython3",
   "version": "3.9.18"
  }
 },
 "nbformat": 4,
 "nbformat_minor": 4
}
